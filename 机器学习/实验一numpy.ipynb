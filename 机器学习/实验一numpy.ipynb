{
 "cells": [
  {
   "cell_type": "code",
   "execution_count": 2,
   "id": "c5bcac57-a34b-4095-96ab-a6e0e797ed72",
   "metadata": {},
   "outputs": [
    {
     "data": {
      "text/plain": [
       "array([6, 7, 8, 9])"
      ]
     },
     "execution_count": 2,
     "metadata": {},
     "output_type": "execute_result"
    }
   ],
   "source": [
    "import numpy as np\n",
    "import pandas as pd\n",
    "a=np.arange(15)\n",
    "a[6:10]"
   ]
  },
  {
   "cell_type": "code",
   "execution_count": 3,
   "id": "3d852fda-de53-4ba8-8e86-e10ca661c165",
   "metadata": {},
   "outputs": [
    {
     "data": {
      "text/plain": [
       "array([[ 5,  6,  7,  8,  9],\n",
       "       [ 0,  1,  2,  3,  4],\n",
       "       [10, 11, 12, 13, 14],\n",
       "       [15, 16, 17, 18, 19]])"
      ]
     },
     "execution_count": 3,
     "metadata": {},
     "output_type": "execute_result"
    }
   ],
   "source": [
    "a=np.arange(20).reshape(4,5)\n",
    "a[[1,0,2,3],:]"
   ]
  },
  {
   "cell_type": "code",
   "execution_count": 4,
   "id": "d463e9f5-6645-4728-b43e-bf1be30978a8",
   "metadata": {},
   "outputs": [
    {
     "data": {
      "text/plain": [
       "array([[ 1,  0,  2,  3],\n",
       "       [ 6,  5,  7,  8],\n",
       "       [11, 10, 12, 13],\n",
       "       [16, 15, 17, 18]])"
      ]
     },
     "execution_count": 4,
     "metadata": {},
     "output_type": "execute_result"
    }
   ],
   "source": [
    "a[:,[1,0,2,3]]"
   ]
  },
  {
   "cell_type": "code",
   "execution_count": 5,
   "id": "8f5e318c-b34c-4773-9d74-e88a34545a30",
   "metadata": {},
   "outputs": [
    {
     "data": {
      "text/plain": [
       "array([[2, 0, 0, 0, 0],\n",
       "       [2, 0, 0, 6, 0],\n",
       "       [6, 0, 0, 0, 0],\n",
       "       [8, 0, 0, 0, 0],\n",
       "       [0, 8, 6, 6, 0]])"
      ]
     },
     "execution_count": 5,
     "metadata": {},
     "output_type": "execute_result"
    }
   ],
   "source": [
    "a=np.random.randint(1,10,size=(5,5))\n",
    "a[np.where(a%2==1)]=0\n",
    "a"
   ]
  },
  {
   "cell_type": "code",
   "execution_count": 6,
   "id": "6ae1d2f3-131b-4140-a3d3-306f0dfbe6df",
   "metadata": {},
   "outputs": [
    {
     "data": {
      "text/plain": [
       "array([17, 10, 11, 13, 16], dtype=int64)"
      ]
     },
     "execution_count": 6,
     "metadata": {},
     "output_type": "execute_result"
    }
   ],
   "source": [
    "a=np.random.randint(1,10,size=(4,5))\n",
    "a=a.ravel()\n",
    "index=np.argsort(-a)[:5]\n",
    "index"
   ]
  },
  {
   "cell_type": "code",
   "execution_count": 7,
   "id": "5dbe3bab-60f7-401c-99fb-4e25d81fe4d6",
   "metadata": {},
   "outputs": [
    {
     "data": {
      "text/plain": [
       "array([6, 6, 5, 3, 4, 3, 4, 6, 2, 2, 9, 9, 7, 9, 2, 8, 8, 9, 1, 2])"
      ]
     },
     "execution_count": 7,
     "metadata": {},
     "output_type": "execute_result"
    }
   ],
   "source": [
    "a"
   ]
  },
  {
   "cell_type": "code",
   "execution_count": 8,
   "id": "6babfddf-8918-4278-b364-e44a64123a1c",
   "metadata": {},
   "outputs": [
    {
     "data": {
      "text/plain": [
       "array([[6, 6, 5, 3, 4],\n",
       "       [3, 4, 6, 2, 2],\n",
       "       [9, 9, 7, 9, 2],\n",
       "       [8, 8, 9, 1, 2]])"
      ]
     },
     "execution_count": 8,
     "metadata": {},
     "output_type": "execute_result"
    }
   ],
   "source": [
    "a[np.where(a>30)]=0\n",
    "a.reshape(4,5)"
   ]
  },
  {
   "cell_type": "code",
   "execution_count": 9,
   "id": "a751fffd-386b-49cd-a1a7-657011bbf5c4",
   "metadata": {},
   "outputs": [
    {
     "data": {
      "text/plain": [
       "array([[5.1, 3.5, 1.4, 0.2, nan],\n",
       "       [4.9, 3. , 1.4, 0.2, nan],\n",
       "       [4.7, 3.2, 1.3, 0.2, nan],\n",
       "       [4.6, 3.1, 1.5, 0.2, nan],\n",
       "       [5. , 3.6, 1.4, 0.2, nan]])"
      ]
     },
     "execution_count": 9,
     "metadata": {},
     "output_type": "execute_result"
    }
   ],
   "source": [
    "url = \"https://archive.ics.uci.edu/ml/machine-learning-databases/iris/iris.data\"\n",
    "iris_2d = np.genfromtxt(url,delimiter=',',dtype='float')\n",
    "iris_2d[:5]"
   ]
  },
  {
   "cell_type": "code",
   "execution_count": 10,
   "id": "62084910-9692-4480-bf39-a5d10a910a12",
   "metadata": {},
   "outputs": [
    {
     "data": {
      "text/plain": [
       "array([[5.1, 3.5, 1.4, 0.2, nan],\n",
       "       [4.9, 3. , 1.4, 0.2, nan],\n",
       "       [4.7, 3.2, 1.3, 0.2, nan],\n",
       "       [4.6, 3.1, 1.5, 0.2, nan],\n",
       "       [5. , 3.6, 1.4, 0.2, nan]])"
      ]
     },
     "execution_count": 10,
     "metadata": {},
     "output_type": "execute_result"
    }
   ],
   "source": [
    "np.random.seed(100)\n",
    "i,j=np.where(iris_2d)\n",
    "iris_2d[np.random.choice((i),20),np.random.choice((j),20)]=np.nan\n",
    "iris_2d[:5]"
   ]
  },
  {
   "cell_type": "code",
   "execution_count": 11,
   "id": "4275330a-15a2-4f02-b79e-429ae6c29617",
   "metadata": {},
   "outputs": [
    {
     "name": "stdout",
     "output_type": "stream",
     "text": [
      "3\n",
      "(array([ 45,  56, 115], dtype=int64),)\n"
     ]
    }
   ],
   "source": [
    "print(np.isnan(iris_2d[:,0]).sum())\n",
    "print(np.where(np.isnan(iris_2d[:,0])))"
   ]
  },
  {
   "cell_type": "code",
   "execution_count": 12,
   "id": "3ada52d7-4374-4aa0-8764-113b0198e9ca",
   "metadata": {},
   "outputs": [
    {
     "data": {
      "text/plain": [
       "array([[4.8, 3.4, 1.6, 0.2, nan],\n",
       "       [4.8, 3.4, 1.9, 0.2, nan],\n",
       "       [4.7, 3.2, 1.6, 0.2, nan],\n",
       "       [4.8, 3.1, 1.6, 0.2, nan],\n",
       "       [4.9, 2.4, 3.3, 1. , nan],\n",
       "       [4.9, 2.5, 4.5, 1.7, nan]])"
      ]
     },
     "execution_count": 12,
     "metadata": {},
     "output_type": "execute_result"
    }
   ],
   "source": [
    "b = (iris_2d[:,2]>1.5)&(iris_2d[:,0]<5.0)\n",
    "iris_2d[b]"
   ]
  },
  {
   "cell_type": "code",
   "execution_count": 14,
   "id": "baccd53a-1c1e-4511-afb8-32b7109e11eb",
   "metadata": {},
   "outputs": [
    {
     "data": {
      "text/plain": [
       "array([], shape=(0, 5), dtype=float64)"
      ]
     },
     "execution_count": 14,
     "metadata": {},
     "output_type": "execute_result"
    }
   ],
   "source": [
    "x=np.array([~np.any(np.isnan(row)) for row in iris_2d])\n",
    "iris_2d[x]"
   ]
  },
  {
   "cell_type": "code",
   "execution_count": 15,
   "id": "dd3ebfc4-2f04-4351-9482-bef5dfe3e898",
   "metadata": {},
   "outputs": [
    {
     "data": {
      "text/plain": [
       "True"
      ]
     },
     "execution_count": 15,
     "metadata": {},
     "output_type": "execute_result"
    }
   ],
   "source": [
    "np.isnan(iris_2d).any()"
   ]
  },
  {
   "cell_type": "code",
   "execution_count": 16,
   "id": "247aa6c4-6b83-407a-9d62-7d828e75c015",
   "metadata": {},
   "outputs": [
    {
     "data": {
      "text/plain": [
       "array([[5.1, 3.5, 1.4, 0.2, 0. ],\n",
       "       [4.9, 3. , 1.4, 0.2, 0. ],\n",
       "       [4.7, 3.2, 1.3, 0.2, 0. ],\n",
       "       [4.6, 3.1, 1.5, 0.2, 0. ],\n",
       "       [5. , 3.6, 1.4, 0.2, 0. ]])"
      ]
     },
     "execution_count": 16,
     "metadata": {},
     "output_type": "execute_result"
    }
   ],
   "source": [
    "iris_2d[np.where(np.isnan(iris_2d))]=0\n",
    "iris_2d[:5]"
   ]
  },
  {
   "cell_type": "code",
   "execution_count": 18,
   "id": "8715373b-83cd-4b29-ad2d-0465b5819897",
   "metadata": {},
   "outputs": [
    {
     "name": "stdout",
     "output_type": "stream",
     "text": [
      "小\n",
      "小\n",
      "小\n",
      "小\n",
      "小\n",
      "小\n",
      "小\n",
      "小\n",
      "小\n",
      "小\n",
      "小\n",
      "小\n",
      "小\n",
      "小\n",
      "小\n",
      "小\n",
      "小\n",
      "小\n",
      "小\n",
      "小\n",
      "小\n",
      "小\n",
      "小\n",
      "小\n",
      "小\n",
      "小\n",
      "小\n",
      "小\n",
      "小\n",
      "小\n",
      "小\n",
      "小\n",
      "小\n",
      "小\n",
      "小\n",
      "小\n",
      "小\n",
      "小\n",
      "小\n",
      "小\n",
      "小\n",
      "小\n",
      "小\n",
      "小\n",
      "小\n",
      "小\n",
      "小\n",
      "小\n",
      "小\n",
      "小\n",
      "中\n",
      "中\n",
      "中\n",
      "中\n",
      "中\n",
      "中\n",
      "中\n",
      "中\n",
      "中\n",
      "中\n",
      "中\n",
      "中\n",
      "中\n",
      "中\n",
      "中\n",
      "中\n",
      "中\n",
      "中\n",
      "中\n",
      "中\n",
      "中\n",
      "中\n",
      "中\n",
      "中\n",
      "中\n",
      "中\n",
      "中\n",
      "大\n",
      "中\n",
      "中\n",
      "中\n",
      "中\n",
      "中\n",
      "大\n",
      "中\n",
      "中\n",
      "中\n",
      "中\n",
      "中\n",
      "中\n",
      "中\n",
      "中\n",
      "中\n",
      "中\n",
      "中\n",
      "中\n",
      "中\n",
      "中\n",
      "中\n",
      "中\n",
      "大\n",
      "小\n",
      "大\n",
      "大\n",
      "大\n",
      "大\n",
      "中\n",
      "大\n",
      "大\n",
      "大\n",
      "大\n",
      "大\n",
      "大\n",
      "大\n",
      "小\n",
      "大\n",
      "大\n",
      "大\n",
      "大\n",
      "大\n",
      "大\n",
      "中\n",
      "大\n",
      "中\n",
      "大\n",
      "大\n",
      "中\n",
      "中\n",
      "大\n",
      "大\n",
      "大\n",
      "小\n",
      "大\n",
      "大\n",
      "大\n",
      "大\n",
      "大\n",
      "大\n",
      "中\n",
      "大\n",
      "大\n",
      "大\n",
      "大\n",
      "大\n",
      "大\n",
      "大\n",
      "大\n",
      "大\n",
      "大\n",
      "大\n"
     ]
    }
   ],
   "source": [
    "a1=np.digitize(iris_2d[:,2],[0,3,5])\n",
    "b={1:'小',2:'中',3:'大'}\n",
    "for i in a1:\n",
    "    print(b[i])"
   ]
  },
  {
   "cell_type": "code",
   "execution_count": 19,
   "id": "ab819b16-d45f-4d36-884b-6330fe3a3aee",
   "metadata": {},
   "outputs": [
    {
     "data": {
      "text/plain": [
       "array([38.13265163, 35.20049849, 30.07237208, 33.23805027, 36.65191429,\n",
       "       51.91167701, 31.02218026, 39.26990817, 28.38324243, 37.71481981,\n",
       "       45.80442089, 38.60389053, 33.77840421, 21.29895099, 42.27327075,\n",
       "        0.        , 39.69716477, 38.13265163, 57.83986235, 40.85641246])"
      ]
     },
     "execution_count": 19,
     "metadata": {},
     "output_type": "execute_result"
    }
   ],
   "source": [
    "petallength=iris_2d[:,2]\n",
    "sepallength=iris_2d[:,0]\n",
    "volume=(np.pi*petallength * (sepallength**2))/3\n",
    "volume[:20]"
   ]
  },
  {
   "cell_type": "code",
   "execution_count": 20,
   "id": "5cb0027d-9218-4be1-9556-85265214bd90",
   "metadata": {},
   "outputs": [
    {
     "data": {
      "text/plain": [
       "50"
      ]
     },
     "execution_count": 20,
     "metadata": {},
     "output_type": "execute_result"
    }
   ],
   "source": [
    "np.argmax(iris_2d[:,3]>1)"
   ]
  },
  {
   "cell_type": "code",
   "execution_count": 21,
   "id": "98b6be19-b2ac-4044-b04a-57028d24826d",
   "metadata": {},
   "outputs": [
    {
     "data": {
      "text/plain": [
       "14.966629547095765"
      ]
     },
     "execution_count": 21,
     "metadata": {},
     "output_type": "execute_result"
    }
   ],
   "source": [
    "a=np.array([1,9,5,12,8,20,4,10,2,8])\n",
    "b=np.array([5,12,8,20,4,10,2,8,1,9])\n",
    "C=np.sqrt(np.sum(np.square(a-b)))\n",
    "C"
   ]
  },
  {
   "cell_type": "code",
   "execution_count": null,
   "id": "cdc633c8-1315-4698-84a0-a9a0c5428eeb",
   "metadata": {},
   "outputs": [],
   "source": []
  }
 ],
 "metadata": {
  "kernelspec": {
   "display_name": "Python 3 (ipykernel)",
   "language": "python",
   "name": "python3"
  },
  "language_info": {
   "codemirror_mode": {
    "name": "ipython",
    "version": 3
   },
   "file_extension": ".py",
   "mimetype": "text/x-python",
   "name": "python",
   "nbconvert_exporter": "python",
   "pygments_lexer": "ipython3",
   "version": "3.9.4"
  }
 },
 "nbformat": 4,
 "nbformat_minor": 5
}
