{
 "cells": [
  {
   "cell_type": "code",
   "execution_count": 2,
   "id": "e6854a19-90ce-40ed-835a-7146bfbe5d87",
   "metadata": {},
   "outputs": [
    {
     "name": "stdout",
     "output_type": "stream",
     "text": [
      "预测结果： ['C']\n"
     ]
    }
   ],
   "source": [
    "# -*- coding: utf-8 -*-\n",
    "import numpy as np\n",
    "from sklearn import neighbors\n",
    "knn = neighbors.KNeighborsClassifier(1)   #取得 knn 分类器\n",
    "data = np.array([[1.1, 1.5, 1.4, 0.2],\n",
    "                 [1.9, 1.0, 1.4 ,0.2],\n",
    "                 [1.7, 1.2, 1.3, 0.2],\n",
    "                 [2.6, 2.1 ,1.5, 0.2],\n",
    "                 [2.0, 2.6 ,1.4, 0.2]])\n",
    "labels = np.array(['A','B','C','D','E'])\n",
    "knn.fit(data,labels)\n",
    "print(\"预测结果：\",knn.predict(np.array([[1.6, 1.5, 1.2, 0.1]]).reshape(1,-1)))"
   ]
  }
 ],
 "metadata": {
  "kernelspec": {
   "display_name": "Python 3 (ipykernel)",
   "language": "python",
   "name": "python3"
  },
  "language_info": {
   "codemirror_mode": {
    "name": "ipython",
    "version": 3
   },
   "file_extension": ".py",
   "mimetype": "text/x-python",
   "name": "python",
   "nbconvert_exporter": "python",
   "pygments_lexer": "ipython3",
   "version": "3.9.2"
  }
 },
 "nbformat": 4,
 "nbformat_minor": 5
}
