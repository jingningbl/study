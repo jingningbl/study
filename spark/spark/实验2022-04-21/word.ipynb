{
 "cells": [
  {
   "cell_type": "code",
   "execution_count": 1,
   "metadata": {},
   "outputs": [],
   "source": [
    "import findspark\n",
    "findspark.init()\n",
    "from pyspark.sql import SparkSession\n",
    "spark=SparkSession.builder.getOrCreate()"
   ]
  },
  {
   "cell_type": "code",
   "execution_count": 3,
   "metadata": {},
   "outputs": [
    {
     "name": "stdout",
     "output_type": "stream",
     "text": [
      "+----+----+\n",
      "|col1|col2|\n",
      "+----+----+\n",
      "|   1|  30|\n",
      "|   2|  40|\n",
      "|   3|  50|\n",
      "|   4|  60|\n",
      "+----+----+\n",
      "\n"
     ]
    }
   ],
   "source": [
    "numList = [[1, 3], [2, 4], [3, 5], [4, 6]]\n",
    "data=spark.createDataFrame(numList)\n",
    "data=data.withColumnRenamed(\"_1\",\"col1\").withColumnRenamed(\"_2\",\"col2\")\n",
    "data.withColumn(\"col2\",data.col2*10).show()"
   ]
  },
  {
   "cell_type": "code",
   "execution_count": 6,
   "metadata": {},
   "outputs": [
    {
     "name": "stdout",
     "output_type": "stream",
     "text": [
      "+----+----+\n",
      "|col1|col2|\n",
      "+----+----+\n",
      "|   1|  30|\n",
      "|   2|  40|\n",
      "|   3|  50|\n",
      "|   4|  60|\n",
      "+----+----+\n",
      "\n"
     ]
    }
   ],
   "source": [
    "#data.createTempView(\"v1\")\n",
    "spark.sql(\"select col1,col2*10 as col2 from v1\").show()"
   ]
  }
 ],
 "metadata": {
  "interpreter": {
   "hash": "4eaf1be304415beee96765ae99c3f893cc8312c7f1196698e6029668e9aeb3e5"
  },
  "kernelspec": {
   "display_name": "Python 3.9.2 64-bit",
   "language": "python",
   "name": "python3"
  },
  "language_info": {
   "codemirror_mode": {
    "name": "ipython",
    "version": 3
   },
   "file_extension": ".py",
   "mimetype": "text/x-python",
   "name": "python",
   "nbconvert_exporter": "python",
   "pygments_lexer": "ipython3",
   "version": "3.9.2"
  },
  "orig_nbformat": 4
 },
 "nbformat": 4,
 "nbformat_minor": 2
}
