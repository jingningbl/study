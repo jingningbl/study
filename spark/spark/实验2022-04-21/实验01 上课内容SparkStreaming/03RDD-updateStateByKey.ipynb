{
 "cells": [
  {
   "cell_type": "markdown",
   "id": "1517b0a3",
   "metadata": {},
   "source": [
    "# 1-03、\n",
    "### 通过观察前面代码的输出结果，我们发现,代码是对DStream中的RDD分别处理的，没有将他们聚合在一起处理；\n",
    "### 通过调用updateStateByKey方法可以实现将所有已接收到的RDD进行聚合处理"
   ]
  },
  {
   "cell_type": "code",
   "execution_count": null,
   "id": "25fd2bb2",
   "metadata": {},
   "outputs": [],
   "source": [
    "import findspark\n",
    "findspark.init()\n",
    "from pyspark import SparkContext\n",
    "sc = SparkContext('local[1]')        # 将这里参数设置为local[1]    因为后面设置有检查点目录，使用超过1个内核会引起资源争夺导致超时"
   ]
  },
  {
   "cell_type": "code",
   "execution_count": null,
   "id": "6bf944dc",
   "metadata": {},
   "outputs": [],
   "source": [
    "from pyspark.streaming import StreamingContext\n",
    "ssc = StreamingContext(sc, 30)       # 根据自己电脑的配置情况和处理数据的复杂程度，适当调整这个参数的大小。上课时设置的是5， 这里修改为30"
   ]
  },
  {
   "cell_type": "code",
   "execution_count": null,
   "id": "04d0fb0b",
   "metadata": {},
   "outputs": [],
   "source": [
    "# 将新到来的值（new_values）和之前的值(last_num)相加\n",
    "def word_count(new_values, last_sum):     \n",
    "    if last_sum is None:\n",
    "        last_sum = 0\n",
    "    return sum(new_values, last_sum)     "
   ]
  },
  {
   "cell_type": "code",
   "execution_count": null,
   "id": "2b2962d4",
   "metadata": {},
   "outputs": [],
   "source": [
    "inputDStream = ssc.queueStream([['a', 'b', 'c'], ['a', 'c'], ['e', 'e', 'c']])\n",
    "pairDStream = inputDStream.map(lambda x : (x, 1)).reduceByKey(lambda x, y : x + y)\n",
    "\n",
    "# 使用updateStateByKey方法前，必须先设置checkpoint目录，用于保存之前处理过的RDD\n",
    "ssc.checkpoint('checkpoints')\n",
    "updateStateDStream = pairDStream.updateStateByKey(word_count)\n",
    "\n",
    "updateStateDStream.pprint()\n",
    "\n",
    "ssc.start()"
   ]
  },
  {
   "cell_type": "code",
   "execution_count": null,
   "id": "0b533b2b",
   "metadata": {},
   "outputs": [],
   "source": [
    "# ssc.awaitTermination(30)\n",
    "# ssc.stop()"
   ]
  }
 ],
 "metadata": {
  "kernelspec": {
   "display_name": "Python 3 (ipykernel)",
   "language": "python",
   "name": "python3"
  },
  "language_info": {
   "codemirror_mode": {
    "name": "ipython",
    "version": 3
   },
   "file_extension": ".py",
   "mimetype": "text/x-python",
   "name": "python",
   "nbconvert_exporter": "python",
   "pygments_lexer": "ipython3",
   "version": "3.9.7"
  }
 },
 "nbformat": 4,
 "nbformat_minor": 5
}
