{
 "cells": [
  {
   "cell_type": "markdown",
   "id": "9df7be64",
   "metadata": {},
   "source": [
    "# 1-05、以RDD形式处理Socket流"
   ]
  },
  {
   "cell_type": "code",
   "execution_count": null,
   "id": "0e498245",
   "metadata": {},
   "outputs": [],
   "source": [
    "import findspark\n",
    "findspark.init()\n",
    "from pyspark import SparkContext\n",
    "sc = SparkContext()"
   ]
  },
  {
   "cell_type": "code",
   "execution_count": null,
   "id": "9b7819a8",
   "metadata": {},
   "outputs": [],
   "source": [
    "from pyspark.streaming import StreamingContext\n",
    "ssc = StreamingContext(sc, 5)"
   ]
  },
  {
   "cell_type": "code",
   "execution_count": null,
   "id": "32e6d111",
   "metadata": {},
   "outputs": [],
   "source": [
    "# 将下面一行代码中的IP，改为自己的Linux虚拟机的IP\n",
    "# 然后在Linnux中打开终端，输入:   nc -lk 9999\n",
    "linesDStream = ssc.socketTextStream('192.168.89.130', 9999)"
   ]
  },
  {
   "cell_type": "code",
   "execution_count": null,
   "id": "6bc5d38e",
   "metadata": {},
   "outputs": [],
   "source": [
    "linesDStream.pprint()"
   ]
  },
  {
   "cell_type": "code",
   "execution_count": null,
   "id": "103a967a",
   "metadata": {},
   "outputs": [],
   "source": [
    "ssc.start()"
   ]
  },
  {
   "cell_type": "code",
   "execution_count": null,
   "id": "6f663bb6",
   "metadata": {},
   "outputs": [],
   "source": [
    "# ssc.awaitTermination(60)\n",
    "ssc.stop()"
   ]
  },
  {
   "cell_type": "code",
   "execution_count": null,
   "id": "7d248819",
   "metadata": {},
   "outputs": [],
   "source": []
  }
 ],
 "metadata": {
  "kernelspec": {
   "display_name": "Python 3 (ipykernel)",
   "language": "python",
   "name": "python3"
  },
  "language_info": {
   "codemirror_mode": {
    "name": "ipython",
    "version": 3
   },
   "file_extension": ".py",
   "mimetype": "text/x-python",
   "name": "python",
   "nbconvert_exporter": "python",
   "pygments_lexer": "ipython3",
   "version": "3.9.7"
  }
 },
 "nbformat": 4,
 "nbformat_minor": 5
}
