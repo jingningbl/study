{
 "cells": [
  {
   "cell_type": "markdown",
   "id": "a33588fe",
   "metadata": {},
   "source": [
    "# 1-04、以RDD形式处理文件流"
   ]
  },
  {
   "cell_type": "code",
   "execution_count": null,
   "id": "67311544",
   "metadata": {},
   "outputs": [],
   "source": [
    "import findspark\n",
    "findspark.init()\n",
    "from pyspark import SparkContext\n",
    "sc = SparkContext()"
   ]
  },
  {
   "cell_type": "code",
   "execution_count": null,
   "id": "edc154dd",
   "metadata": {},
   "outputs": [],
   "source": [
    "from pyspark.streaming import StreamingContext\n",
    "ssc = StreamingContext(sc, 20)"
   ]
  },
  {
   "cell_type": "code",
   "execution_count": null,
   "id": "591c5c28",
   "metadata": {
    "scrolled": true
   },
   "outputs": [],
   "source": [
    "textFileDStream = ssc.textFileStream('StreamingData01')\n",
    "reduceDStream = textFileDStream.filter(lambda x : 'is' in x) \\\n",
    "                               .flatMap(lambda x : x.split(' ')) \\\n",
    "                               .map(lambda x : (x, 1)) \\\n",
    "                               .reduceByKey(lambda x, y : x + y )\n",
    "reduceDStream.pprint(50)      # 打印50行，默认是10行\n",
    "ssc.start()                   # 只有start()方法调用之后，创建的文件才会被处理\n"
   ]
  },
  {
   "cell_type": "code",
   "execution_count": null,
   "id": "24b8f100",
   "metadata": {},
   "outputs": [],
   "source": [
    "# ssc.awaitTermination(60)\n",
    "# ssc.stop(True, False)"
   ]
  },
  {
   "cell_type": "code",
   "execution_count": null,
   "id": "1f98d5ba",
   "metadata": {},
   "outputs": [],
   "source": []
  }
 ],
 "metadata": {
  "kernelspec": {
   "display_name": "Python 3 (ipykernel)",
   "language": "python",
   "name": "python3"
  },
  "language_info": {
   "codemirror_mode": {
    "name": "ipython",
    "version": 3
   },
   "file_extension": ".py",
   "mimetype": "text/x-python",
   "name": "python",
   "nbconvert_exporter": "python",
   "pygments_lexer": "ipython3",
   "version": "3.9.7"
  }
 },
 "nbformat": 4,
 "nbformat_minor": 5
}
