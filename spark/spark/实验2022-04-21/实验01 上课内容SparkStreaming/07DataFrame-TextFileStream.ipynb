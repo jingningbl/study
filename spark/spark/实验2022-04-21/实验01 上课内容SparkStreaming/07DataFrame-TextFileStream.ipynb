{
 "cells": [
  {
   "cell_type": "markdown",
   "id": "029fb423",
   "metadata": {},
   "source": [
    "# 2-01、以DataFrame形式处理文件流"
   ]
  },
  {
   "cell_type": "code",
   "execution_count": null,
   "id": "219e0c35",
   "metadata": {},
   "outputs": [],
   "source": [
    "import findspark\n",
    "findspark.init()\n",
    "from pyspark.sql import SparkSession\n",
    "spark = SparkSession.builder.getOrCreate()"
   ]
  },
  {
   "cell_type": "code",
   "execution_count": null,
   "id": "8ae3bc83",
   "metadata": {},
   "outputs": [],
   "source": [
    "from pyspark.sql.types import StructType\n",
    "dataschema = StructType()\\\n",
    "              .add(\"Date\", \"date\")\\\n",
    "              .add(\"OpenPrice\", \"double\")\\\n",
    "              .add(\"HighPrice\", \"double\")\\\n",
    "              .add(\"LowPrice\", \"double\") \\\n",
    "              .add(\"ClosePrice\", \"double\")\n",
    "words = spark.readStream.csv('StreamingData03\\\\*.csv',  schema = dataschema, header = True)"
   ]
  },
  {
   "cell_type": "code",
   "execution_count": null,
   "id": "461574c4",
   "metadata": {},
   "outputs": [],
   "source": [
    "type(words)  "
   ]
  },
  {
   "cell_type": "code",
   "execution_count": null,
   "id": "ea68ac6d",
   "metadata": {},
   "outputs": [],
   "source": [
    "words.columns"
   ]
  },
  {
   "cell_type": "code",
   "execution_count": null,
   "id": "4f1d07f5",
   "metadata": {},
   "outputs": [],
   "source": [
    "# 需要去Jupyter的控制台中看结果。可以\n",
    "words.createOrReplaceTempView('words_view')\n",
    "words = spark.sql('select count(*) from words_view')\n",
    "query = words.writeStream.format(\"console\").outputMode(\"complete\").start()  # complete表示对所有接收到的数据进行操作。默认只处理新接收的数据\n",
    "# words = spark.sql('select * from words_view')\n",
    "# query = words.writeStream.format(\"csv\").option(\"checkpointLocation\", \"checkpointDir\").option(\"path\",\"outDir\").start()"
   ]
  },
  {
   "cell_type": "code",
   "execution_count": null,
   "id": "02e41fb7",
   "metadata": {},
   "outputs": [],
   "source": [
    "# query.awaitTermination(60)\n",
    "query.stop()"
   ]
  },
  {
   "cell_type": "code",
   "execution_count": null,
   "id": "33b0242f",
   "metadata": {},
   "outputs": [],
   "source": []
  }
 ],
 "metadata": {
  "kernelspec": {
   "display_name": "Python 3 (ipykernel)",
   "language": "python",
   "name": "python3"
  },
  "language_info": {
   "codemirror_mode": {
    "name": "ipython",
    "version": 3
   },
   "file_extension": ".py",
   "mimetype": "text/x-python",
   "name": "python",
   "nbconvert_exporter": "python",
   "pygments_lexer": "ipython3",
   "version": "3.9.7"
  }
 },
 "nbformat": 4,
 "nbformat_minor": 5
}
