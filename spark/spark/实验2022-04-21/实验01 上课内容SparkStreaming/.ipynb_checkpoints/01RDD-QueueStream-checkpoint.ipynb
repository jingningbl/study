{
 "cells": [
  {
   "cell_type": "markdown",
   "id": "fd7882d0",
   "metadata": {},
   "source": [
    "## 有两种处理流数据的方式：\n",
    "#### （1） 以RDD的形式处理\n",
    "![Spark Streaming Data Flow](rdddstream.png)\n",
    "#### （2） 以DataFrame的形式处理：\n",
    "![Spark Streaming Data Flow](dfdstream.png)"
   ]
  },
  {
   "cell_type": "code",
   "execution_count": null,
   "id": "14a40bdd",
   "metadata": {},
   "outputs": [],
   "source": []
  },
  {
   "cell_type": "markdown",
   "id": "0bf8c266",
   "metadata": {},
   "source": [
    "# 1-01、以RDD形式处理集合对象（RDD集合）"
   ]
  },
  {
   "cell_type": "code",
   "execution_count": null,
   "id": "5d268706",
   "metadata": {},
   "outputs": [],
   "source": [
    "import findspark\n",
    "findspark.init()\n",
    "from pyspark import SparkContext\n",
    "sc = SparkContext()"
   ]
  },
  {
   "cell_type": "code",
   "execution_count": null,
   "id": "7ac11a9d",
   "metadata": {},
   "outputs": [],
   "source": [
    "from pyspark.streaming import StreamingContext\n",
    "ssc = StreamingContext(sc, 5)   # 通过SparkContext对象创建StreamingContext对象。参数5表示每隔5取一次数据"
   ]
  },
  {
   "cell_type": "code",
   "execution_count": null,
   "id": "60c6cc19",
   "metadata": {},
   "outputs": [],
   "source": [
    "type(ssc)"
   ]
  },
  {
   "cell_type": "code",
   "execution_count": null,
   "id": "94944554",
   "metadata": {},
   "outputs": [],
   "source": [
    "rdd01 = sc.parallelize(['a', 'b', 'c'])\n",
    "rdd02 = sc.parallelize(['a', 'c'])\n",
    "rdd03 = sc.parallelize(['e', 'e', 'c'])"
   ]
  },
  {
   "cell_type": "code",
   "execution_count": null,
   "id": "72f88481",
   "metadata": {},
   "outputs": [],
   "source": [
    "inputDStream = ssc.queueStream([rdd01, rdd02, rdd03])"
   ]
  },
  {
   "cell_type": "code",
   "execution_count": null,
   "id": "a095c5c1",
   "metadata": {},
   "outputs": [],
   "source": [
    "####### 输出操作（Action)\n",
    "# （1）将结果打印输出\n",
    "# inputDStream.pprint() \n",
    "inputDStream.map(lambda x : (x, 1)).reduceByKey(lambda x, y : x + y).pprint()\n",
    "\n",
    "# （2）蒋结果输出到文件夹中\n",
    "# inputDStream.saveAsTextFiles('output')"
   ]
  },
  {
   "cell_type": "code",
   "execution_count": null,
   "id": "6d2499e5",
   "metadata": {},
   "outputs": [],
   "source": [
    "ssc.start() \n",
    "# 第一个ture表示，停止streamingcontext同时也释放sparkcontext对象。\n",
    "# 第二个true表示，将接受到的数据处理完再停止，而不是立即停止"
   ]
  },
  {
   "cell_type": "code",
   "execution_count": null,
   "id": "e0eaee18",
   "metadata": {},
   "outputs": [],
   "source": [
    "# ssc.awaitTermination(30)\n",
    "# ssc.stop(False, True)    "
   ]
  }
 ],
 "metadata": {
  "kernelspec": {
   "display_name": "Python 3 (ipykernel)",
   "language": "python",
   "name": "python3"
  },
  "language_info": {
   "codemirror_mode": {
    "name": "ipython",
    "version": 3
   },
   "file_extension": ".py",
   "mimetype": "text/x-python",
   "name": "python",
   "nbconvert_exporter": "python",
   "pygments_lexer": "ipython3",
   "version": "3.9.7"
  }
 },
 "nbformat": 4,
 "nbformat_minor": 5
}
