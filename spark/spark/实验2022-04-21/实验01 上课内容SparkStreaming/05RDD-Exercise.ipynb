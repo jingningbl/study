{
 "cells": [
  {
   "cell_type": "code",
   "execution_count": null,
   "id": "8ae8cef8",
   "metadata": {},
   "outputs": [],
   "source": [
    "import findspark\n",
    "findspark.init()\n",
    "from pyspark import SparkContext\n",
    "sc = SparkContext('local[1]')"
   ]
  },
  {
   "cell_type": "code",
   "execution_count": null,
   "id": "c7eb5f0d",
   "metadata": {},
   "outputs": [],
   "source": [
    "from pyspark.streaming import StreamingContext\n",
    "ssc = StreamingContext(sc, 60)"
   ]
  },
  {
   "cell_type": "code",
   "execution_count": null,
   "id": "c3007688",
   "metadata": {},
   "outputs": [],
   "source": [
    "def word_count(new_values, last_sum):\n",
    "    if last_sum is None:\n",
    "        last_sum = 0\n",
    "    return sum(new_values, last_sum)   "
   ]
  },
  {
   "cell_type": "code",
   "execution_count": null,
   "id": "cd8707c8",
   "metadata": {
    "scrolled": false
   },
   "outputs": [],
   "source": [
    "inputDStream = ssc.textFileStream('StreamingData02')\n",
    "reducedDStream = inputDStream.map(lambda x : (x, 1)).reduceByKey(lambda x, y : x + y)\n",
    "\n",
    "ssc.checkpoint('checkpoints')\n",
    "updateStateDStream = reducedDStream.updateStateByKey(word_count)\n",
    "\n",
    "updateStateDStream.pprint()\n",
    "ssc.start()"
   ]
  },
  {
   "cell_type": "code",
   "execution_count": null,
   "id": "32fdc6ce",
   "metadata": {},
   "outputs": [],
   "source": [
    "# ssc.awaitTermination(200)\n",
    "# ssc.stop()"
   ]
  },
  {
   "cell_type": "code",
   "execution_count": null,
   "id": "f6dc526d",
   "metadata": {},
   "outputs": [],
   "source": []
  }
 ],
 "metadata": {
  "kernelspec": {
   "display_name": "Python 3 (ipykernel)",
   "language": "python",
   "name": "python3"
  },
  "language_info": {
   "codemirror_mode": {
    "name": "ipython",
    "version": 3
   },
   "file_extension": ".py",
   "mimetype": "text/x-python",
   "name": "python",
   "nbconvert_exporter": "python",
   "pygments_lexer": "ipython3",
   "version": "3.9.7"
  }
 },
 "nbformat": 4,
 "nbformat_minor": 5
}
