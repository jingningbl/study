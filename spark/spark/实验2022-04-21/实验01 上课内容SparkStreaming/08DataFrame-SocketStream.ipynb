{
 "cells": [
  {
   "cell_type": "markdown",
   "id": "14f0b422",
   "metadata": {},
   "source": [
    "# 2-02、以DataFrame形式处理Socket流"
   ]
  },
  {
   "cell_type": "code",
   "execution_count": null,
   "id": "967b5535",
   "metadata": {},
   "outputs": [],
   "source": [
    "import findspark\n",
    "findspark.init()\n",
    "from pyspark.sql import SparkSession\n",
    "spark = SparkSession.builder.getOrCreate()"
   ]
  },
  {
   "cell_type": "code",
   "execution_count": null,
   "id": "919c2ecd",
   "metadata": {},
   "outputs": [],
   "source": [
    "lines = spark.readStream.format('socket').option('host', '192.168.89.130').option('port', '9999').load()"
   ]
  },
  {
   "cell_type": "code",
   "execution_count": null,
   "id": "371cc99a",
   "metadata": {},
   "outputs": [],
   "source": [
    "type(lines)                "
   ]
  },
  {
   "cell_type": "code",
   "execution_count": null,
   "id": "8d5111bb",
   "metadata": {},
   "outputs": [],
   "source": [
    "lines.columns"
   ]
  },
  {
   "cell_type": "code",
   "execution_count": null,
   "id": "e7579de4",
   "metadata": {},
   "outputs": [],
   "source": [
    "from pyspark.sql.functions import explode, split\n",
    "words = lines.select(explode(split(lines.value, \" \")).alias(\"word\"))"
   ]
  },
  {
   "cell_type": "code",
   "execution_count": null,
   "id": "e6fb3bd1",
   "metadata": {},
   "outputs": [],
   "source": [
    "## 方法一：使用DataFrame API\n",
    "wordCounts = words.groupBy(\"word\").count() "
   ]
  },
  {
   "cell_type": "code",
   "execution_count": null,
   "id": "3d0c7eff",
   "metadata": {},
   "outputs": [],
   "source": [
    "##  方法二：使用Spark SQL\n",
    "# words.createOrReplaceTempView(\"words_view\")\n",
    "# wordCounts = spark.sql('select word, count(word) from words_view group by word ')"
   ]
  },
  {
   "cell_type": "code",
   "execution_count": null,
   "id": "2eb15f51",
   "metadata": {},
   "outputs": [],
   "source": [
    "query = wordCounts.writeStream.outputMode(\"complete\").format(\"console\").start()\n",
    "# query.awaitTermination(180)"
   ]
  },
  {
   "cell_type": "code",
   "execution_count": null,
   "id": "8acf3f9f",
   "metadata": {},
   "outputs": [],
   "source": [
    "query.stop()"
   ]
  }
 ],
 "metadata": {
  "kernelspec": {
   "display_name": "Python 3 (ipykernel)",
   "language": "python",
   "name": "python3"
  },
  "language_info": {
   "codemirror_mode": {
    "name": "ipython",
    "version": 3
   },
   "file_extension": ".py",
   "mimetype": "text/x-python",
   "name": "python",
   "nbconvert_exporter": "python",
   "pygments_lexer": "ipython3",
   "version": "3.9.7"
  }
 },
 "nbformat": 4,
 "nbformat_minor": 5
}
