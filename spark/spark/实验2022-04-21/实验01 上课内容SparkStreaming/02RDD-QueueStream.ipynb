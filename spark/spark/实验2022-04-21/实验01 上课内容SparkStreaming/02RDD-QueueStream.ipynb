{
 "cells": [
  {
   "cell_type": "markdown",
   "id": "734d4fc0",
   "metadata": {},
   "source": [
    "# 1-02、以RDD形式处理集合对象（list集合）"
   ]
  },
  {
   "cell_type": "code",
   "execution_count": null,
   "id": "435dd418",
   "metadata": {},
   "outputs": [],
   "source": [
    "import findspark\n",
    "findspark.init()\n",
    "from pyspark import SparkContext\n",
    "sc = SparkContext()"
   ]
  },
  {
   "cell_type": "code",
   "execution_count": null,
   "id": "76af748b",
   "metadata": {},
   "outputs": [],
   "source": [
    "from pyspark.streaming import StreamingContext\n",
    "ssc = StreamingContext(sc, 5)"
   ]
  },
  {
   "cell_type": "code",
   "execution_count": null,
   "id": "b53c3aff",
   "metadata": {},
   "outputs": [],
   "source": [
    "type(ssc)"
   ]
  },
  {
   "cell_type": "code",
   "execution_count": null,
   "id": "35448c1e",
   "metadata": {},
   "outputs": [],
   "source": [
    "inputDStream = ssc.queueStream([['a', 'b', 'c'], ['a', 'c'], ['e', 'e', 'c']])"
   ]
  },
  {
   "cell_type": "code",
   "execution_count": null,
   "id": "c554c969",
   "metadata": {},
   "outputs": [],
   "source": [
    "inputDStream.map(lambda x : (x, 1)).reduceByKey(lambda x, y : x + y).pprint()"
   ]
  },
  {
   "cell_type": "code",
   "execution_count": null,
   "id": "d45d452c",
   "metadata": {},
   "outputs": [],
   "source": [
    "ssc.start()"
   ]
  },
  {
   "cell_type": "code",
   "execution_count": null,
   "id": "814d5b19",
   "metadata": {},
   "outputs": [],
   "source": [
    "# ssc.awaitTermination(30)\n",
    "# ssc.stop(True, True)"
   ]
  },
  {
   "cell_type": "code",
   "execution_count": null,
   "id": "f7200f02",
   "metadata": {},
   "outputs": [],
   "source": []
  }
 ],
 "metadata": {
  "kernelspec": {
   "display_name": "Python 3 (ipykernel)",
   "language": "python",
   "name": "python3"
  },
  "language_info": {
   "codemirror_mode": {
    "name": "ipython",
    "version": 3
   },
   "file_extension": ".py",
   "mimetype": "text/x-python",
   "name": "python",
   "nbconvert_exporter": "python",
   "pygments_lexer": "ipython3",
   "version": "3.9.7"
  }
 },
 "nbformat": 4,
 "nbformat_minor": 5
}
