{
 "cells": [
  {
   "cell_type": "code",
   "execution_count": 3,
   "id": "3d1310c7-cb00-4b7f-af07-4a9da7ce8ffc",
   "metadata": {},
   "outputs": [],
   "source": [
    "import findspark\n",
    "findspark.init()\n",
    "from pyspark.sql import SparkSession\n",
    "spark=SparkSession.builder.getOrCreate()"
   ]
  },
  {
   "cell_type": "markdown",
   "id": "13ee7dfc-06a6-407b-aa72-e8450f4d5d56",
   "metadata": {},
   "source": [
    "已知：numList = [[1, 3], [2, 4], [3, 5], [4, 6]]\n",
    "请用DataFrame API和Spark SQL分别编程\n",
    "输出格式（列名随意）： "
   ]
  },
  {
   "cell_type": "markdown",
   "id": "113434cb-76ed-4efc-ae65-5bc22a3f0a10",
   "metadata": {},
   "source": [
    "##### DataFrame API"
   ]
  },
  {
   "cell_type": "code",
   "execution_count": 12,
   "id": "1e7ee702-1dcf-4ed0-8f99-19d78e22abab",
   "metadata": {},
   "outputs": [
    {
     "name": "stdout",
     "output_type": "stream",
     "text": [
      "+----+----+\n",
      "|col1|col2|\n",
      "+----+----+\n",
      "|   1|  30|\n",
      "|   2|  40|\n",
      "|   3|  50|\n",
      "|   4|  60|\n",
      "+----+----+\n",
      "\n"
     ]
    }
   ],
   "source": [
    "numList = [[1, 3], [2, 4], [3, 5], [4, 6]]\n",
    "data=spark.createDataFrame(numList)\n",
    "data=data.withColumnRenamed(\"_1\",\"col1\").withColumnRenamed(\"_2\",\"col2\").select(\"*\")\n",
    "data.withColumn(\"col2\",data.col2*10).show()"
   ]
  },
  {
   "cell_type": "markdown",
   "id": "40d28dbb-608d-461a-9d7a-90d0ea2a5132",
   "metadata": {},
   "source": [
    "##### Spark Sql"
   ]
  },
  {
   "cell_type": "code",
   "execution_count": 19,
   "id": "38579dc3-7b74-4ae3-b787-96a9ac876886",
   "metadata": {},
   "outputs": [
    {
     "name": "stdout",
     "output_type": "stream",
     "text": [
      "+----+----+\n",
      "|col1|col2|\n",
      "+----+----+\n",
      "|   1|  30|\n",
      "|   2|  40|\n",
      "|   3|  50|\n",
      "|   4|  60|\n",
      "+----+----+\n",
      "\n"
     ]
    }
   ],
   "source": [
    "data.createTempView('data_v')\n",
    "spark.sql(\"select col1,col2*10 as col2 from data_view\").show()"
   ]
  }
 ],
 "metadata": {
  "kernelspec": {
   "display_name": "Python 3 (ipykernel)",
   "language": "python",
   "name": "python3"
  },
  "language_info": {
   "codemirror_mode": {
    "name": "ipython",
    "version": 3
   },
   "file_extension": ".py",
   "mimetype": "text/x-python",
   "name": "python",
   "nbconvert_exporter": "python",
   "pygments_lexer": "ipython3",
   "version": "3.9.2"
  }
 },
 "nbformat": 4,
 "nbformat_minor": 5
}
