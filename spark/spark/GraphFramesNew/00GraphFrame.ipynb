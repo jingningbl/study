{
 "cells": [
  {
   "cell_type": "markdown",
   "id": "c9836ccb",
   "metadata": {},
   "source": [
    "## 一、图的重要概念（看PPT）\n",
    "#### (1) 顶点、边 \n",
    "#### (2) 无向图、有向图\n",
    "#### (3) 度、入度、出度\n",
    "#### (4) 连通图、强连通图\n",
    "#### (5) 连通分量、强连通分量\n",
    "#### (6) 简单图、多重图、伪图 "
   ]
  },
  {
   "cell_type": "markdown",
   "id": "d4e008f6",
   "metadata": {},
   "source": [
    "## 二、使用GraphFrames库\n",
    "#### 1. GraphFrames库目前还没有官方并入Spark项目，因此需要自己加载该库\n",
    "#### 2. 加载时注意版本匹配问题\n",
    "##### (1) 首先查看spark所用的scala版本：在cmd中运行spark-shell命令或者在 localhost:4040 中查看\n",
    "##### (2) https://spark-packages.org/package/graphframes/graphframes 中找到对应的GraphFrames版本\n"
   ]
  },
  {
   "cell_type": "code",
   "execution_count": 1,
   "id": "c5041196",
   "metadata": {},
   "outputs": [],
   "source": [
    "import findspark\n",
    "findspark.init()\n",
    "from pyspark.sql import SparkSession\n",
    "spark = SparkSession.builder \\\n",
    "                    .config('spark.jars.packages', 'graphframes:graphframes:0.8.2-spark3.0-s_2.12') \\\n",
    "                    .getOrCreate()\n",
    "# 上面代码会自动下载graphframes"
   ]
  },
  {
   "cell_type": "code",
   "execution_count": 2,
   "id": "32e45edc",
   "metadata": {},
   "outputs": [
    {
     "data": {
      "text/html": [
       "\n",
       "            <div>\n",
       "                <p><b>SparkSession - in-memory</b></p>\n",
       "                \n",
       "        <div>\n",
       "            <p><b>SparkContext</b></p>\n",
       "\n",
       "            <p><a href=\"http://DESKTOP-NBL0JQP:4040\">Spark UI</a></p>\n",
       "\n",
       "            <dl>\n",
       "              <dt>Version</dt>\n",
       "                <dd><code>v3.0.3</code></dd>\n",
       "              <dt>Master</dt>\n",
       "                <dd><code>local[*]</code></dd>\n",
       "              <dt>AppName</dt>\n",
       "                <dd><code>pyspark-shell</code></dd>\n",
       "            </dl>\n",
       "        </div>\n",
       "        \n",
       "            </div>\n",
       "        "
      ],
      "text/plain": [
       "<pyspark.sql.session.SparkSession at 0x1e023c13670>"
      ]
     },
     "execution_count": 2,
     "metadata": {},
     "output_type": "execute_result"
    }
   ],
   "source": [
    "spark"
   ]
  },
  {
   "cell_type": "markdown",
   "id": "f5bef6e3",
   "metadata": {},
   "source": [
    "## 三、创建图实例\n",
    "#### (1) 创建顶点DataFrame对象：必须有id列，作为顶点的唯一标识\n",
    "#### (2) 创建边DataFrame对象：必须有src和dst列\n",
    "#### (3) 根据顶点和边DataFrame实例，创建图实例"
   ]
  },
  {
   "cell_type": "markdown",
   "id": "de94b4e0",
   "metadata": {},
   "source": [
    "<img src = 'graph.png' align = left>"
   ]
  },
  {
   "cell_type": "code",
   "execution_count": 3,
   "id": "be795e4c",
   "metadata": {},
   "outputs": [
    {
     "name": "stdout",
     "output_type": "stream",
     "text": [
      "+---+-------+---+\n",
      "| id|   name|age|\n",
      "+---+-------+---+\n",
      "|  a|  Alice| 34|\n",
      "|  b|    Bob| 36|\n",
      "|  c|Charlie| 30|\n",
      "|  d|  David| 29|\n",
      "|  e| Esther| 32|\n",
      "|  f|  Fanny| 36|\n",
      "|  g|  Gabby| 60|\n",
      "+---+-------+---+\n",
      "\n"
     ]
    }
   ],
   "source": [
    "# 创建顶点DataFrame实例\n",
    "data_V = [('a', 'Alice', 34), ('b', 'Bob', 36), ('c', 'Charlie', 30), ('d', 'David', 29), ('e', 'Esther', 32), ('f', 'Fanny', 36), ('g', 'Gabby', 60)]\n",
    "cols_V = ['id', 'name', 'age']\n",
    "vertices = spark.createDataFrame(data_V, cols_V)\n",
    "vertices.show()"
   ]
  },
  {
   "cell_type": "code",
   "execution_count": 4,
   "id": "30d74db5",
   "metadata": {},
   "outputs": [
    {
     "name": "stdout",
     "output_type": "stream",
     "text": [
      "+---+-----+---+\n",
      "| id| name|age|\n",
      "+---+-----+---+\n",
      "|  d|David| 29|\n",
      "+---+-----+---+\n",
      "\n"
     ]
    }
   ],
   "source": [
    "filterV = vertices.filter('age<30')\n",
    "filterV.show()"
   ]
  },
  {
   "cell_type": "code",
   "execution_count": 5,
   "id": "bb362e39",
   "metadata": {},
   "outputs": [
    {
     "name": "stdout",
     "output_type": "stream",
     "text": [
      "+---+---+------------+\n",
      "|src|dst|relationship|\n",
      "+---+---+------------+\n",
      "|  a|  b|      friend|\n",
      "|  b|  c|      follow|\n",
      "|  c|  b|      follow|\n",
      "|  f|  c|      follow|\n",
      "|  e|  f|      follow|\n",
      "|  e|  d|      friend|\n",
      "|  d|  a|      friend|\n",
      "|  a|  e|      friend|\n",
      "+---+---+------------+\n",
      "\n"
     ]
    }
   ],
   "source": [
    "# 创建边DataFrame实例\n",
    "data_E = [('a', 'b', 'friend'), ('b', 'c', 'follow'), ('c', 'b', 'follow'), ('f', 'c', 'follow'), ('e', 'f', 'follow'), ('e', 'd', 'friend'), \n",
    "         ('d', 'a', 'friend'), ('a', 'e', 'friend')]\n",
    "cols_E = ['src', 'dst', 'relationship']\n",
    "edges = spark.createDataFrame(data_E, cols_E)\n",
    "edges.show()"
   ]
  },
  {
   "cell_type": "code",
   "execution_count": 6,
   "id": "f2c20ab2",
   "metadata": {},
   "outputs": [
    {
     "name": "stdout",
     "output_type": "stream",
     "text": [
      "+---+---+------------+\n",
      "|src|dst|relationship|\n",
      "+---+---+------------+\n",
      "|  b|  c|      follow|\n",
      "|  c|  b|      follow|\n",
      "|  f|  c|      follow|\n",
      "|  e|  f|      follow|\n",
      "+---+---+------------+\n",
      "\n"
     ]
    }
   ],
   "source": [
    "followEdges = edges.filter(\"relationship = 'follow'\")\n",
    "followEdges.show()"
   ]
  },
  {
   "cell_type": "code",
   "execution_count": 7,
   "id": "81ee345c",
   "metadata": {},
   "outputs": [],
   "source": [
    "# 创建图对象\n",
    "from graphframes import GraphFrame\n",
    "graph = GraphFrame(vertices, edges)"
   ]
  },
  {
   "cell_type": "markdown",
   "id": "0de6e3d9",
   "metadata": {},
   "source": [
    "## 四、根据图对象，查看顶点DataFrame（顶点视图）、边DataFrame（边视图）、三元组视图、模式视图、出入度\n",
    "#### 1. 查看顶点DataFrame（顶点视图)"
   ]
  },
  {
   "cell_type": "code",
   "execution_count": null,
   "id": "012e3ae9",
   "metadata": {},
   "outputs": [],
   "source": [
    "type(graph.vertices)"
   ]
  },
  {
   "cell_type": "code",
   "execution_count": null,
   "id": "1b18e15b",
   "metadata": {},
   "outputs": [],
   "source": [
    "graph.vertices.show()"
   ]
  },
  {
   "cell_type": "markdown",
   "id": "e0f6e385",
   "metadata": {},
   "source": [
    "#### 2. 查看边DataFrame（边视图）"
   ]
  },
  {
   "cell_type": "code",
   "execution_count": null,
   "id": "0c8385c5",
   "metadata": {},
   "outputs": [],
   "source": [
    "graph.edges.show()"
   ]
  },
  {
   "cell_type": "markdown",
   "id": "3d445901",
   "metadata": {},
   "source": [
    "#### 3. 查看三元组视图"
   ]
  },
  {
   "cell_type": "code",
   "execution_count": null,
   "id": "a352ec7b",
   "metadata": {},
   "outputs": [],
   "source": [
    "graph.triplets.show()"
   ]
  },
  {
   "cell_type": "markdown",
   "id": "bb2d0cc9",
   "metadata": {},
   "source": [
    "#### 4. 查看模式视图"
   ]
  },
  {
   "cell_type": "code",
   "execution_count": null,
   "id": "8688f093",
   "metadata": {},
   "outputs": [],
   "source": [
    "m_df = graph.find(\"(v1)-[e1]->(v2)\")\n",
    "m_df.show()"
   ]
  },
  {
   "cell_type": "code",
   "execution_count": null,
   "id": "84c3c95a",
   "metadata": {},
   "outputs": [],
   "source": [
    "m_df = graph.find(\"(v1)-[]->(v2)\")\n",
    "m_df.show()"
   ]
  },
  {
   "cell_type": "code",
   "execution_count": null,
   "id": "26ad7e74",
   "metadata": {},
   "outputs": [],
   "source": [
    "m_df.groupBy('v1').count().alias('count').orderBy('count', ascending = False).show()"
   ]
  },
  {
   "cell_type": "code",
   "execution_count": null,
   "id": "30ab12fb",
   "metadata": {},
   "outputs": [],
   "source": [
    "m_df.groupBy('v2').count().alias('count').orderBy('count', ascending = False).show()"
   ]
  },
  {
   "cell_type": "code",
   "execution_count": null,
   "id": "a31057b9",
   "metadata": {},
   "outputs": [],
   "source": [
    "m_df = graph.find(\"(v1)-[]->(v2);(v2) - [] -> (v1)\")   # 相互关注\n",
    "m_df.show()"
   ]
  },
  {
   "cell_type": "code",
   "execution_count": null,
   "id": "f252de17",
   "metadata": {},
   "outputs": [],
   "source": [
    "m_df = graph.find(\"(v1)-[]->(v2);!(v2) - [] -> (v1)\")  # 单向关注\n",
    "m_df.show()"
   ]
  },
  {
   "cell_type": "code",
   "execution_count": null,
   "id": "d1b1d1d1",
   "metadata": {},
   "outputs": [],
   "source": [
    "m_df.printSchema()"
   ]
  },
  {
   "cell_type": "code",
   "execution_count": null,
   "id": "abdf55b4",
   "metadata": {
    "scrolled": true
   },
   "outputs": [],
   "source": [
    "from pyspark.sql.functions import col\n",
    "m_df.select(col('v1.*'),col('v2.*')).show()"
   ]
  },
  {
   "cell_type": "code",
   "execution_count": null,
   "id": "853491df",
   "metadata": {},
   "outputs": [],
   "source": [
    "m_df.select(col('v1.id').alias('v1_id'),col('v2.name').alias('v2_name')).show()"
   ]
  },
  {
   "cell_type": "code",
   "execution_count": null,
   "id": "5a88848f",
   "metadata": {},
   "outputs": [],
   "source": [
    "m_df.select(col('v1.id').alias('v1_id')).where(col('v2.id') == 'a').show()"
   ]
  },
  {
   "cell_type": "markdown",
   "id": "b7a4d6a3",
   "metadata": {},
   "source": [
    "#### 5. 查看度、出度、入度"
   ]
  },
  {
   "cell_type": "code",
   "execution_count": null,
   "id": "5b82ea38",
   "metadata": {},
   "outputs": [],
   "source": [
    "graph.degrees.show()"
   ]
  },
  {
   "cell_type": "code",
   "execution_count": null,
   "id": "be24b693",
   "metadata": {},
   "outputs": [],
   "source": [
    "graph.inDegrees.show()"
   ]
  },
  {
   "cell_type": "code",
   "execution_count": null,
   "id": "831b4529",
   "metadata": {},
   "outputs": [],
   "source": [
    "graph.inDegrees.orderBy('inDegree', ascending = False).show()"
   ]
  },
  {
   "cell_type": "code",
   "execution_count": null,
   "id": "92dd8a20",
   "metadata": {},
   "outputs": [],
   "source": [
    "graph.outDegrees.show()"
   ]
  },
  {
   "cell_type": "code",
   "execution_count": null,
   "id": "8c72b715",
   "metadata": {},
   "outputs": [],
   "source": [
    "graph.outDegrees.orderBy(['outDegree', 'id'], ascending = False).show()"
   ]
  },
  {
   "cell_type": "markdown",
   "id": "7d2bc533",
   "metadata": {},
   "source": [
    "## 五、算法\n",
    "#### 1. 广度优先搜索(Breadth-First Search, BFS)：只返回所有匹配路径中的最短路径\n",
    "#### bfs(fromExpr, toExpr, edgeFilter = None, maxPathLength = 10)"
   ]
  },
  {
   "cell_type": "code",
   "execution_count": null,
   "id": "a6667929",
   "metadata": {},
   "outputs": [],
   "source": [
    "paths = graph.bfs(\"name='Esther'\", \"age <=40\", maxPathLength=2)\n",
    "paths.show()"
   ]
  },
  {
   "cell_type": "code",
   "execution_count": null,
   "id": "cc192be5",
   "metadata": {},
   "outputs": [],
   "source": [
    "paths = graph.bfs(\"name='Esther'\", \"age <= 30\", maxPathLength=5)\n",
    "paths.show()"
   ]
  },
  {
   "cell_type": "code",
   "execution_count": null,
   "id": "1bec5abb",
   "metadata": {},
   "outputs": [],
   "source": [
    "paths = graph.bfs(\"name='Esther'\", \"age == 30\", maxPathLength=5)\n",
    "paths.show()"
   ]
  },
  {
   "cell_type": "code",
   "execution_count": null,
   "id": "86196667",
   "metadata": {},
   "outputs": [],
   "source": [
    "paths = graph.bfs(\"name = 'Esther'\", \"age > 32\", edgeFilter=\"relationship != 'follow'\", maxPathLength=5)\n",
    "paths.show()"
   ]
  },
  {
   "cell_type": "markdown",
   "id": "eb9cb0fb",
   "metadata": {},
   "source": [
    "#### 2. 最短路径算法（Dijkstra算法）：返回所有顶点到目标顶点的最短距离\n",
    "#### shortestPaths(landmarks)"
   ]
  },
  {
   "cell_type": "code",
   "execution_count": null,
   "id": "917d0628",
   "metadata": {
    "scrolled": true
   },
   "outputs": [],
   "source": [
    "df = graph.shortestPaths(['g'])\n",
    "df.show()"
   ]
  },
  {
   "cell_type": "code",
   "execution_count": null,
   "id": "cefaee24",
   "metadata": {},
   "outputs": [],
   "source": [
    "df.printSchema()"
   ]
  },
  {
   "cell_type": "code",
   "execution_count": null,
   "id": "76a34c6b",
   "metadata": {},
   "outputs": [],
   "source": [
    "from pyspark.sql.functions import explode, explode_outer\n",
    "df.select('id', 'name', 'age',explode('distances')).show()"
   ]
  },
  {
   "cell_type": "code",
   "execution_count": null,
   "id": "b25dcf7b",
   "metadata": {},
   "outputs": [],
   "source": [
    "df.select('id', 'name', 'age',explode_outer('distances')).show()"
   ]
  },
  {
   "cell_type": "code",
   "execution_count": null,
   "id": "a53ce382",
   "metadata": {},
   "outputs": [],
   "source": [
    "df.select('id', 'name', 'age',explode('distances')).filter(\"value > 0\").show()"
   ]
  },
  {
   "cell_type": "code",
   "execution_count": null,
   "id": "17f9ec68",
   "metadata": {},
   "outputs": [],
   "source": [
    "df = graph.shortestPaths(['a', 'd'])\n",
    "df.show()"
   ]
  },
  {
   "cell_type": "code",
   "execution_count": null,
   "id": "cf723e36",
   "metadata": {},
   "outputs": [],
   "source": [
    "df.select('id', 'name', 'age', explode('distances')).show()"
   ]
  },
  {
   "cell_type": "code",
   "execution_count": null,
   "id": "770fb9be",
   "metadata": {},
   "outputs": [],
   "source": [
    "df.select('id', 'name', 'age', explode('distances')).filter(\"value > 0 and value <= 1\").show()"
   ]
  },
  {
   "cell_type": "markdown",
   "id": "5f29702e",
   "metadata": {},
   "source": [
    "#### 3. 三角形计数算法：确定每个顶点的三角形数量。图被当做无向图处理，平行边计算一次，自环被忽略。三角形个数越多，说明网络顶点之间的连接越紧密\n",
    "#### triangleCount()"
   ]
  },
  {
   "cell_type": "code",
   "execution_count": 8,
   "id": "be1b3850",
   "metadata": {},
   "outputs": [
    {
     "name": "stdout",
     "output_type": "stream",
     "text": [
      "+-----+---+-------+---+\n",
      "|count| id|   name|age|\n",
      "+-----+---+-------+---+\n",
      "|    1|  e| Esther| 32|\n",
      "|    1|  a|  Alice| 34|\n",
      "|    1|  d|  David| 29|\n",
      "|    0|  g|  Gabby| 60|\n",
      "|    0|  b|    Bob| 36|\n",
      "|    0|  c|Charlie| 30|\n",
      "|    0|  f|  Fanny| 36|\n",
      "+-----+---+-------+---+\n",
      "\n"
     ]
    }
   ],
   "source": [
    "graph.triangleCount().orderBy('count', ascending=False).show()"
   ]
  },
  {
   "cell_type": "markdown",
   "id": "7418b03c",
   "metadata": {},
   "source": [
    "#### 4. 发现图中的环。经常用于社交网络分析，发现社交圈子"
   ]
  },
  {
   "cell_type": "markdown",
   "id": "bf37db1b",
   "metadata": {},
   "source": [
    "####  (1) 强连通分量算法：把图作为有向图\n",
    "#### stronglyConnectedComponents"
   ]
  },
  {
   "cell_type": "code",
   "execution_count": 9,
   "id": "12431a65",
   "metadata": {
    "scrolled": true
   },
   "outputs": [
    {
     "name": "stdout",
     "output_type": "stream",
     "text": [
      "+---+-------+---+-------------+\n",
      "| id|   name|age|    component|\n",
      "+---+-------+---+-------------+\n",
      "|  g|  Gabby| 60| 146028888064|\n",
      "|  f|  Fanny| 36| 412316860416|\n",
      "|  e| Esther| 32| 670014898176|\n",
      "|  d|  David| 29| 807453851648|\n",
      "|  c|Charlie| 30|1047972020224|\n",
      "|  b|    Bob| 36|1382979469312|\n",
      "|  a|  Alice| 34|1460288880640|\n",
      "+---+-------+---+-------------+\n",
      "\n"
     ]
    }
   ],
   "source": [
    "graph.stronglyConnectedComponents(maxIter=1).orderBy('component').show()"
   ]
  },
  {
   "cell_type": "code",
   "execution_count": 10,
   "id": "0a2c3e3d",
   "metadata": {},
   "outputs": [
    {
     "name": "stdout",
     "output_type": "stream",
     "text": [
      "+---+-------+---+-------------+\n",
      "| id|   name|age|    component|\n",
      "+---+-------+---+-------------+\n",
      "|  g|  Gabby| 60| 146028888064|\n",
      "|  f|  Fanny| 36| 412316860416|\n",
      "|  a|  Alice| 34| 670014898176|\n",
      "|  e| Esther| 32| 670014898176|\n",
      "|  d|  David| 29| 670014898176|\n",
      "|  c|Charlie| 30|1047972020224|\n",
      "|  b|    Bob| 36|1382979469312|\n",
      "+---+-------+---+-------------+\n",
      "\n"
     ]
    }
   ],
   "source": [
    "graph.stronglyConnectedComponents(maxIter=2).orderBy('component').show()"
   ]
  },
  {
   "cell_type": "code",
   "execution_count": 11,
   "id": "2ee6bf90",
   "metadata": {},
   "outputs": [
    {
     "name": "stdout",
     "output_type": "stream",
     "text": [
      "+---+-------+---+-------------+\n",
      "| id|   name|age|    component|\n",
      "+---+-------+---+-------------+\n",
      "|  g|  Gabby| 60| 146028888064|\n",
      "|  f|  Fanny| 36| 412316860416|\n",
      "|  d|  David| 29| 670014898176|\n",
      "|  a|  Alice| 34| 670014898176|\n",
      "|  e| Esther| 32| 670014898176|\n",
      "|  c|Charlie| 30|1047972020224|\n",
      "|  b|    Bob| 36|1047972020224|\n",
      "+---+-------+---+-------------+\n",
      "\n"
     ]
    }
   ],
   "source": [
    "graph.stronglyConnectedComponents(maxIter=3).orderBy('component').show()"
   ]
  },
  {
   "cell_type": "code",
   "execution_count": 12,
   "id": "721c3bb5",
   "metadata": {},
   "outputs": [
    {
     "name": "stdout",
     "output_type": "stream",
     "text": [
      "+---+-------+---+-------------+\n",
      "| id|   name|age|    component|\n",
      "+---+-------+---+-------------+\n",
      "|  g|  Gabby| 60| 146028888064|\n",
      "|  f|  Fanny| 36| 412316860416|\n",
      "|  e| Esther| 32| 670014898176|\n",
      "|  a|  Alice| 34| 670014898176|\n",
      "|  d|  David| 29| 670014898176|\n",
      "|  b|    Bob| 36|1047972020224|\n",
      "|  c|Charlie| 30|1047972020224|\n",
      "+---+-------+---+-------------+\n",
      "\n"
     ]
    }
   ],
   "source": [
    "graph.stronglyConnectedComponents(maxIter=4).orderBy('component').show()"
   ]
  },
  {
   "cell_type": "markdown",
   "id": "03d16b7b",
   "metadata": {},
   "source": [
    "####  (2)连通分量算法：把图作为无向图\n",
    "#### connectedComponents()"
   ]
  },
  {
   "cell_type": "code",
   "execution_count": null,
   "id": "44ded798",
   "metadata": {},
   "outputs": [],
   "source": [
    "# 使用连通分量算法，需要首先设置检查点目录\n",
    "spark.sparkContext.setCheckpointDir('./checkpointDir')    \n",
    "df = graph.connectedComponents()                 # 连通分量（最大连接子图）\n",
    "df.show()   "
   ]
  },
  {
   "cell_type": "code",
   "execution_count": null,
   "id": "2d80485b",
   "metadata": {},
   "outputs": [],
   "source": [
    "from pyspark.sql.functions import collect_list\n",
    "df_agg = df.groupBy('component').agg(collect_list('name').alias('all_name'))\n",
    "df_agg.show()"
   ]
  },
  {
   "cell_type": "code",
   "execution_count": null,
   "id": "26410e16",
   "metadata": {},
   "outputs": [],
   "source": [
    "df_agg.show(truncate=False)    # 列内容的显示不被截断"
   ]
  },
  {
   "cell_type": "code",
   "execution_count": null,
   "id": "dc30c358",
   "metadata": {},
   "outputs": [],
   "source": [
    "from pyspark.sql.functions import concat_ws\n",
    "df_string = df.groupBy('component').agg(concat_ws('+', collect_list('name')).alias('all_name'))\n",
    "df_string.show(truncate=False)"
   ]
  },
  {
   "cell_type": "code",
   "execution_count": null,
   "id": "4c9d515a",
   "metadata": {},
   "outputs": [],
   "source": []
  },
  {
   "cell_type": "markdown",
   "id": "5acb94ea",
   "metadata": {},
   "source": [
    "#### 5. 标签传播算法（Label Propagation Algorithm, LPA）：把图作为无向图，经常用于社区发现\n",
    "#### labelPropagation(maxIter)"
   ]
  },
  {
   "cell_type": "markdown",
   "id": "10b27215",
   "metadata": {},
   "source": [
    "<img src ='LPA.png' align = left>"
   ]
  },
  {
   "cell_type": "code",
   "execution_count": 13,
   "id": "1be2630c",
   "metadata": {},
   "outputs": [
    {
     "name": "stdout",
     "output_type": "stream",
     "text": [
      "+---+-------+---+-------------+\n",
      "| id|   name|age|        label|\n",
      "+---+-------+---+-------------+\n",
      "|  g|  Gabby| 60| 146028888064|\n",
      "|  b|    Bob| 36|1047972020224|\n",
      "|  e| Esther| 32|1460288880640|\n",
      "|  a|  Alice| 34|1382979469312|\n",
      "|  f|  Fanny| 36|1047972020224|\n",
      "|  d|  David| 29|1460288880640|\n",
      "|  c|Charlie| 30|1382979469312|\n",
      "+---+-------+---+-------------+\n",
      "\n"
     ]
    }
   ],
   "source": [
    "graph.labelPropagation(maxIter=1).show()"
   ]
  },
  {
   "cell_type": "code",
   "execution_count": 14,
   "id": "1cc77bbf",
   "metadata": {},
   "outputs": [
    {
     "name": "stdout",
     "output_type": "stream",
     "text": [
      "+---+-------+---+-------------+\n",
      "| id|   name|age|        label|\n",
      "+---+-------+---+-------------+\n",
      "|  g|  Gabby| 60| 146028888064|\n",
      "|  b|    Bob| 36|1382979469312|\n",
      "|  e| Esther| 32|1460288880640|\n",
      "|  a|  Alice| 34|1460288880640|\n",
      "|  f|  Fanny| 36|1382979469312|\n",
      "|  d|  David| 29|1382979469312|\n",
      "|  c|Charlie| 30|1047972020224|\n",
      "+---+-------+---+-------------+\n",
      "\n"
     ]
    }
   ],
   "source": [
    "graph.labelPropagation(maxIter=2).show()"
   ]
  },
  {
   "cell_type": "code",
   "execution_count": 15,
   "id": "b12133cb",
   "metadata": {},
   "outputs": [
    {
     "name": "stdout",
     "output_type": "stream",
     "text": [
      "+---+-------+---+-------------+\n",
      "| id|   name|age|        label|\n",
      "+---+-------+---+-------------+\n",
      "|  g|  Gabby| 60| 146028888064|\n",
      "|  b|    Bob| 36|1047972020224|\n",
      "|  e| Esther| 32|1382979469312|\n",
      "|  a|  Alice| 34|1382979469312|\n",
      "|  f|  Fanny| 36|1460288880640|\n",
      "|  d|  David| 29|1460288880640|\n",
      "|  c|Charlie| 30|1382979469312|\n",
      "+---+-------+---+-------------+\n",
      "\n"
     ]
    }
   ],
   "source": [
    "graph.labelPropagation(maxIter=3).show()"
   ]
  },
  {
   "cell_type": "code",
   "execution_count": 16,
   "id": "ff53c436",
   "metadata": {},
   "outputs": [
    {
     "name": "stdout",
     "output_type": "stream",
     "text": [
      "+---+-------+---+-------------+\n",
      "| id|   name|age|        label|\n",
      "+---+-------+---+-------------+\n",
      "|  g|  Gabby| 60| 146028888064|\n",
      "|  b|    Bob| 36|1382979469312|\n",
      "|  e| Esther| 32|1460288880640|\n",
      "|  a|  Alice| 34|1460288880640|\n",
      "|  f|  Fanny| 36|1382979469312|\n",
      "|  d|  David| 29|1382979469312|\n",
      "|  c|Charlie| 30|1047972020224|\n",
      "+---+-------+---+-------------+\n",
      "\n"
     ]
    }
   ],
   "source": [
    "graph.labelPropagation(maxIter=4).show()"
   ]
  },
  {
   "cell_type": "markdown",
   "id": "47f50257",
   "metadata": {},
   "source": [
    "#### 6. PageRank算法：评估有向图中各个顶点的重要程度（被指向的次数）\n",
    "#### pageRank(maxIter)\n",
    "#### (1) 静态PageRank, 通过指定maxIter参数，迭代固定的次数"
   ]
  },
  {
   "cell_type": "code",
   "execution_count": 17,
   "id": "e772b847",
   "metadata": {},
   "outputs": [
    {
     "name": "stdout",
     "output_type": "stream",
     "text": [
      "+---+-------+---+-------------------+\n",
      "| id|   name|age|           pagerank|\n",
      "+---+-------+---+-------------------+\n",
      "|  g|  Gabby| 60|0.17073170731707318|\n",
      "|  f|  Fanny| 36|0.34304852959857723|\n",
      "|  d|  David| 29|0.34304852959857723|\n",
      "|  e| Esther| 32|0.40545134654471543|\n",
      "|  a|  Alice| 34|0.48915269944105694|\n",
      "|  b|    Bob| 36|  2.514646227134146|\n",
      "|  c|Charlie| 30| 2.7339209603658534|\n",
      "+---+-------+---+-------------------+\n",
      "\n"
     ]
    }
   ],
   "source": [
    "graph.pageRank(maxIter=5).vertices.orderBy('pagerank').show()    # 迭代5次"
   ]
  },
  {
   "cell_type": "markdown",
   "id": "2361c84d",
   "metadata": {},
   "source": [
    "#### (2) 动态PageRank,该算法一直运行，直到PR值收敛到预定于的公差值为止"
   ]
  },
  {
   "cell_type": "code",
   "execution_count": 18,
   "id": "c69f1f18",
   "metadata": {},
   "outputs": [
    {
     "name": "stdout",
     "output_type": "stream",
     "text": [
      "+---+-------+---+-------------------+\n",
      "| id|   name|age|           pagerank|\n",
      "+---+-------+---+-------------------+\n",
      "|  g|  Gabby| 60| 0.1799821386239711|\n",
      "|  d|  David| 29| 0.3283606792049851|\n",
      "|  f|  Fanny| 36| 0.3283606792049851|\n",
      "|  e| Esther| 32|0.37085233187676075|\n",
      "|  a|  Alice| 34|0.44910633706538744|\n",
      "|  b|    Bob| 36|  2.655507832863289|\n",
      "|  c|Charlie| 30| 2.6878300011606218|\n",
      "+---+-------+---+-------------------+\n",
      "\n"
     ]
    }
   ],
   "source": [
    "graph.pageRank(tol=0.01).vertices.orderBy('pagerank').show()     # 设置公差值为0.0.1"
   ]
  },
  {
   "cell_type": "markdown",
   "id": "cd84fa35",
   "metadata": {},
   "source": [
    "## 六、基于GraphFrames的网页排名\n",
    "#### 数据集地址：http://snap.stanford.edu/data/web-Google.html"
   ]
  },
  {
   "cell_type": "markdown",
   "id": "484e1b5f",
   "metadata": {},
   "source": [
    "#### 方法一：自己写一个类似的算法"
   ]
  },
  {
   "cell_type": "code",
   "execution_count": null,
   "id": "bd068d29",
   "metadata": {},
   "outputs": [],
   "source": [
    "googlePath=\"web-Google.txt\"\n",
    "\n",
    "googleWeblinks=spark.sparkContext.textFile(googlePath).filter(lambda x:\"#\" not in x).map(lambda x:x.split(\"\\t\"))\n",
    "# This parses the rows and filters out any comments, headers etc\n",
    "def computeContribs(urls, rank):\n",
    "    \"\"\"Calculates URL contributions to the rank of other URLs.\"\"\"\n",
    "    num_urls = len(urls)\n",
    "    contribs = []\n",
    "    for url in urls:\n",
    "        contribs.append((url, rank / num_urls))\n",
    "    return contribs"
   ]
  },
  {
   "cell_type": "code",
   "execution_count": null,
   "id": "cb2ef783",
   "metadata": {},
   "outputs": [],
   "source": [
    "links = googleWeblinks.groupByKey().cache()"
   ]
  },
  {
   "cell_type": "code",
   "execution_count": null,
   "id": "6acd273d",
   "metadata": {},
   "outputs": [],
   "source": [
    "ranks = links.map(lambda x: (x[0], 1.0)) # Initialized the ranks to 1 "
   ]
  },
  {
   "cell_type": "code",
   "execution_count": null,
   "id": "f2debaef",
   "metadata": {},
   "outputs": [],
   "source": [
    "for iteration in range(2):\n",
    "    contribs = links.join(ranks).flatMap(lambda x:computeContribs(x[1][0], x[1][1]))\n",
    "    ranks = contribs.reduceByKey(lambda x,y:x+y).mapValues(lambda rank: rank * 0.85 + 0.15)\n",
    "    \n",
    "for (link,rank) in ranks.sortBy(lambda x:-x[1]).take(10):\n",
    "    print(\"%s has rank: %s.\" % (link, rank))"
   ]
  },
  {
   "cell_type": "markdown",
   "id": "62487df0",
   "metadata": {},
   "source": [
    "#### 方法二：利用GraphFrame自带的PageRank算法"
   ]
  },
  {
   "cell_type": "code",
   "execution_count": null,
   "id": "3f17b3e6",
   "metadata": {},
   "outputs": [],
   "source": [
    "from pyspark.sql.types import StructField, StructType, LongType\n",
    "schema = StructType([StructField('src', LongType(), True), StructField('dst', LongType(), True)])\n",
    "edgesDF = spark.read.load('web-Google.txt', format='csv', delimiter = '\\t', schema = schema, mode = 'DROPMALFORMED')\n",
    "edgesDF.show()"
   ]
  },
  {
   "cell_type": "code",
   "execution_count": null,
   "id": "55d7a276",
   "metadata": {},
   "outputs": [],
   "source": [
    "edgesDF.cache()"
   ]
  },
  {
   "cell_type": "code",
   "execution_count": null,
   "id": "5a14c49a",
   "metadata": {},
   "outputs": [],
   "source": [
    "srcDF = edgesDF.select(edgesDF.src).distinct()\n",
    "distDF = edgesDF.select(edgesDF.dst).distinct()\n",
    "verticesDF = srcDF.union(distDF).distinct().withColumnRenamed('src', 'id')"
   ]
  },
  {
   "cell_type": "code",
   "execution_count": null,
   "id": "af6e28cb",
   "metadata": {},
   "outputs": [],
   "source": [
    "verticesDF.cache()"
   ]
  },
  {
   "cell_type": "code",
   "execution_count": null,
   "id": "d714080c",
   "metadata": {},
   "outputs": [],
   "source": [
    "from graphframes import GraphFrame\n",
    "graph = GraphFrame(verticesDF, edgesDF)\n",
    "ranks = graph.pageRank(resetProbability=0.15, maxIter = 5)\n",
    "ranks.show()"
   ]
  },
  {
   "cell_type": "code",
   "execution_count": null,
   "id": "d4a9c632",
   "metadata": {},
   "outputs": [],
   "source": []
  }
 ],
 "metadata": {
  "kernelspec": {
   "display_name": "Python 3 (ipykernel)",
   "language": "python",
   "name": "python3"
  },
  "language_info": {
   "codemirror_mode": {
    "name": "ipython",
    "version": 3
   },
   "file_extension": ".py",
   "mimetype": "text/x-python",
   "name": "python",
   "nbconvert_exporter": "python",
   "pygments_lexer": "ipython3",
   "version": "3.9.2"
  }
 },
 "nbformat": 4,
 "nbformat_minor": 5
}
