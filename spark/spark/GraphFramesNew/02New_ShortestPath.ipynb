{
 "cells": [
  {
   "cell_type": "code",
   "execution_count": 1,
   "id": "a368dc70",
   "metadata": {},
   "outputs": [],
   "source": [
    "import findspark\n",
    "findspark.init()\n",
    "from pyspark.sql import SparkSession\n",
    "spark = SparkSession.builder \\\n",
    "                    .config('spark.jars.packages', 'graphframes:graphframes:0.8.2-spark3.0-s_2.12') \\\n",
    "                    .getOrCreate()\n",
    "sc = spark.sparkContext"
   ]
  },
  {
   "cell_type": "code",
   "execution_count": 2,
   "id": "a025d4de",
   "metadata": {},
   "outputs": [],
   "source": [
    "df_V = spark.read.csv(\"transport-nodes.csv\", header = True, inferSchema = True)\n",
    "df_E = spark.read.csv(\"transport-relationships.csv\", header = True, inferSchema = True)\n",
    "from graphframes import GraphFrame\n",
    "graph = GraphFrame(df_V, df_E) "
   ]
  },
  {
   "cell_type": "markdown",
   "id": "aeb9d057",
   "metadata": {},
   "source": [
    "<img src=\"ShortestPath.png\" align=\"left\">"
   ]
  },
  {
   "cell_type": "code",
   "execution_count": 3,
   "id": "01c244d5",
   "metadata": {},
   "outputs": [
    {
     "name": "stdout",
     "output_type": "stream",
     "text": [
      "+------------------------------------+------------------------+---------------------------------+------------------------+---------------------------------+\n",
      "|from                                |e0                      |v1                               |e1                      |to                               |\n",
      "+------------------------------------+------------------------+---------------------------------+------------------------+---------------------------------+\n",
      "|[A城市, 52.078663, 4.288788, 514861]|[A城市, C城市, ROAD, 10]|[C城市, 51.9225, 4.47917, 623652]|[C城市, E城市, ROAD, 20]|[E城市, 52.01667, 4.70833, 70990]|\n",
      "|[A城市, 52.078663, 4.288788, 514861]|[A城市, B城市, ROAD, 26]|[B城市, 51.9775, 4.13333, 9382]  |[B城市, E城市, ROAD, 5] |[E城市, 52.01667, 4.70833, 70990]|\n",
      "|[A城市, 52.078663, 4.288788, 514861]|[A城市, D城市, ROAD, 25]|[D城市, 52.01667, 4.70833, 70939]|[D城市, E城市, ROAD, 45]|[E城市, 52.01667, 4.70833, 70990]|\n",
      "+------------------------------------+------------------------+---------------------------------+------------------------+---------------------------------+\n",
      "\n"
     ]
    }
   ],
   "source": [
    "from_expr = \"id = 'A城市'\"\n",
    "to_expr = \"id = 'E城市'\"\n",
    "result = graph.bfs(from_expr, to_expr)\n",
    "result.show(truncate = False)"
   ]
  },
  {
   "cell_type": "code",
   "execution_count": 6,
   "id": "de644e1a",
   "metadata": {},
   "outputs": [
    {
     "name": "stdout",
     "output_type": "stream",
     "text": [
      "+------------------------------------+---------------------------------+---------------------------------+\n",
      "|from                                |v1                               |to                               |\n",
      "+------------------------------------+---------------------------------+---------------------------------+\n",
      "|[A城市, 52.078663, 4.288788, 514861]|[C城市, 51.9225, 4.47917, 623652]|[E城市, 52.01667, 4.70833, 70990]|\n",
      "|[A城市, 52.078663, 4.288788, 514861]|[B城市, 51.9775, 4.13333, 9382]  |[E城市, 52.01667, 4.70833, 70990]|\n",
      "|[A城市, 52.078663, 4.288788, 514861]|[D城市, 52.01667, 4.70833, 70939]|[E城市, 52.01667, 4.70833, 70990]|\n",
      "+------------------------------------+---------------------------------+---------------------------------+\n",
      "\n"
     ]
    }
   ],
   "source": [
    "result.select('from', 'v1', 'to').show(truncate = False)"
   ]
  },
  {
   "cell_type": "code",
   "execution_count": null,
   "id": "728bca2d",
   "metadata": {},
   "outputs": [],
   "source": [
    "from pyspark.sql.types import ArrayType, StringType\n",
    "from graphframes.lib import AggregateMessages as AM\n",
    "from pyspark.sql import functions as F\n",
    "\n",
    "add_path_udf = F.udf(lambda path, id: path + [id], ArrayType(StringType()))\n",
    "\n",
    "def shortest_path(g, origin, destination, column_name=\"cost\"):\n",
    "    if g.vertices.filter(g.vertices.id == destination).count() == 0:\n",
    "        return (spark.createDataFrame(sc.emptyRDD(), g.vertices.schema)\n",
    "                .withColumn(\"path\", F.array()))\n",
    "\n",
    "    vertices = (g.vertices.withColumn(\"visited\", F.lit(False))\n",
    "                .withColumn(\"distance\", F.when(g.vertices[\"id\"] == origin, 0)\n",
    "                            .otherwise(float(\"inf\")))\n",
    "                .withColumn(\"path\", F.array()))\n",
    "    cached_vertices = AM.getCachedDataFrame(vertices)\n",
    "    g2 = GraphFrame(cached_vertices, g.edges)\n",
    "\n",
    "    while g2.vertices.filter('visited == False').first():\n",
    "        current_node_id = g2.vertices.filter('visited == False').sort(\"distance\").first().id\n",
    "\n",
    "        msg_distance = AM.edge[column_name] + AM.src['distance']\n",
    "        msg_path = add_path_udf(AM.src[\"path\"], AM.src[\"id\"])\n",
    "        msg_for_dst = F.when(AM.src['id'] == current_node_id, F.struct(msg_distance, msg_path))\n",
    "        new_distances = g2.aggregateMessages(F.min(AM.msg).alias(\"aggMess\"),\n",
    "                                             sendToDst=msg_for_dst)\n",
    "\n",
    "        new_visited_col = F.when(\n",
    "            g2.vertices.visited | (g2.vertices.id == current_node_id), True).otherwise(False)\n",
    "        new_distance_col = F.when(new_distances[\"aggMess\"].isNotNull() &\n",
    "                                  (new_distances.aggMess[\"col1\"] < g2.vertices.distance),\n",
    "                                  new_distances.aggMess[\"col1\"]) \\\n",
    "            .otherwise(g2.vertices.distance)\n",
    "        new_path_col = F.when(new_distances[\"aggMess\"].isNotNull() &\n",
    "                              (new_distances.aggMess[\"col1\"] < g2.vertices.distance),\n",
    "                              new_distances.aggMess[\"col2\"].cast(\"array<string>\")) \\\n",
    "            .otherwise(g2.vertices.path)\n",
    "\n",
    "        new_vertices = (g2.vertices.join(new_distances, on=\"id\", how=\"left_outer\")\n",
    "                        .drop(new_distances[\"id\"])\n",
    "                        .withColumn(\"visited\", new_visited_col)\n",
    "                        .withColumn(\"newDistance\", new_distance_col)\n",
    "                        .withColumn(\"newPath\", new_path_col)\n",
    "                        .drop(\"aggMess\", \"distance\", \"path\")\n",
    "                        .withColumnRenamed('newDistance', 'distance')\n",
    "                        .withColumnRenamed('newPath', 'path'))\n",
    "        cached_new_vertices = AM.getCachedDataFrame(new_vertices)\n",
    "        g2 = GraphFrame(cached_new_vertices, g2.edges)\n",
    "        if g2.vertices.filter(g2.vertices.id == destination).first().visited:\n",
    "            return (g2.vertices.filter(g2.vertices.id == destination)\n",
    "                    .withColumn(\"newPath\", add_path_udf(\"path\", \"id\"))\n",
    "                    .drop(\"visited\", \"path\")\n",
    "                    .withColumnRenamed(\"newPath\", \"path\"))\n",
    "    return (spark.createDataFrame(sc.emptyRDD(), g.vertices.schema)\n",
    "            .withColumn(\"path\", F.array()))"
   ]
  },
  {
   "cell_type": "code",
   "execution_count": null,
   "id": "ee0fdda8",
   "metadata": {},
   "outputs": [],
   "source": [
    "result = shortest_path(graph, \"A城市\", \"E城市\", \"cost\")\n",
    "result.select(\"id\", \"distance\", \"path\").show(truncate=False)"
   ]
  },
  {
   "cell_type": "code",
   "execution_count": null,
   "id": "5c982b7d",
   "metadata": {},
   "outputs": [],
   "source": []
  }
 ],
 "metadata": {
  "kernelspec": {
   "display_name": "Python 3 (ipykernel)",
   "language": "python",
   "name": "python3"
  },
  "language_info": {
   "codemirror_mode": {
    "name": "ipython",
    "version": 3
   },
   "file_extension": ".py",
   "mimetype": "text/x-python",
   "name": "python",
   "nbconvert_exporter": "python",
   "pygments_lexer": "ipython3",
   "version": "3.9.2"
  }
 },
 "nbformat": 4,
 "nbformat_minor": 5
}
