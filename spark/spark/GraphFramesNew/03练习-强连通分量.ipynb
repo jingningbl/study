{
 "cells": [
  {
   "cell_type": "markdown",
   "id": "88a77a84",
   "metadata": {},
   "source": [
    "### 练习：\n",
    "### firm.csv和firm-relationship.csv记录的是某些公司之间的彼此持股情况，请找出有哪些公司直接或者间接互相持股？"
   ]
  },
  {
   "cell_type": "code",
   "execution_count": 1,
   "id": "1d05c429",
   "metadata": {},
   "outputs": [],
   "source": [
    "import findspark\n",
    "findspark.init()\n",
    "from pyspark.sql import SparkSession\n",
    "spark = SparkSession.builder \\\n",
    "                    .config('spark.jars.packages', 'graphframes:graphframes:0.8.2-spark3.0-s_2.12') \\\n",
    "                    .getOrCreate()"
   ]
  },
  {
   "cell_type": "code",
   "execution_count": 4,
   "id": "4838a0d1",
   "metadata": {},
   "outputs": [
    {
     "name": "stdout",
     "output_type": "stream",
     "text": [
      "+-----+\n",
      "|   id|\n",
      "+-----+\n",
      "|A公司|\n",
      "|B公司|\n",
      "|C公司|\n",
      "|D公司|\n",
      "|E公司|\n",
      "|F公司|\n",
      "|G公司|\n",
      "+-----+\n",
      "\n"
     ]
    }
   ],
   "source": [
    "df_V=spark.read.csv(\"./firm.csv\",header=True,inferSchema=True)\n",
    "df_V.show()"
   ]
  },
  {
   "cell_type": "code",
   "execution_count": 5,
   "id": "2311d6fb",
   "metadata": {},
   "outputs": [
    {
     "name": "stdout",
     "output_type": "stream",
     "text": [
      "+-----+-----+------------+\n",
      "|  src|  dst|relationship|\n",
      "+-----+-----+------------+\n",
      "|A公司|B公司|        持股|\n",
      "|B公司|A公司|        持股|\n",
      "|C公司|A公司|        持股|\n",
      "|C公司|D公司|        持股|\n",
      "|D公司|A公司|        持股|\n",
      "|D公司|E公司|        持股|\n",
      "|E公司|C公司|        持股|\n",
      "|F公司|G公司|        持股|\n",
      "+-----+-----+------------+\n",
      "\n"
     ]
    }
   ],
   "source": [
    "df_E=spark.read.csv(\"./firm-relationship.csv\",header=True,inferSchema=True)\n",
    "df_E.show()"
   ]
  },
  {
   "cell_type": "code",
   "execution_count": 6,
   "id": "0446e5b2",
   "metadata": {},
   "outputs": [
    {
     "data": {
      "text/plain": [
       "graphframes.graphframe.GraphFrame"
      ]
     },
     "execution_count": 6,
     "metadata": {},
     "output_type": "execute_result"
    }
   ],
   "source": [
    "from graphframes import GraphFrame\n",
    "graph=GraphFrame(df_V,df_E)\n",
    "type(graph)"
   ]
  },
  {
   "cell_type": "markdown",
   "id": "8c341e9f",
   "metadata": {},
   "source": [
    "#### 强连通分量算法"
   ]
  },
  {
   "cell_type": "code",
   "execution_count": 7,
   "id": "2aa31d7d",
   "metadata": {},
   "outputs": [
    {
     "name": "stdout",
     "output_type": "stream",
     "text": [
      "+-----+-------------+\n",
      "|   id|    component|\n",
      "+-----+-------------+\n",
      "|B公司|  25769803776|\n",
      "|E公司| 764504178688|\n",
      "|D公司| 850403524608|\n",
      "|F公司|1108101562368|\n",
      "|A公司|1211180777472|\n",
      "|C公司|1580547964928|\n",
      "|G公司|1709396983808|\n",
      "+-----+-------------+\n",
      "\n"
     ]
    }
   ],
   "source": [
    "graph.stronglyConnectedComponents(maxIter=1).orderBy('component').show()"
   ]
  },
  {
   "cell_type": "code",
   "execution_count": 8,
   "id": "ddbe25a5",
   "metadata": {},
   "outputs": [
    {
     "name": "stdout",
     "output_type": "stream",
     "text": [
      "+-----+-------------+\n",
      "|   id|    component|\n",
      "+-----+-------------+\n",
      "|A公司|  25769803776|\n",
      "|B公司|  25769803776|\n",
      "|D公司| 764504178688|\n",
      "|E公司| 764504178688|\n",
      "|C公司| 764504178688|\n",
      "|F公司|1108101562368|\n",
      "|G公司|1709396983808|\n",
      "+-----+-------------+\n",
      "\n"
     ]
    }
   ],
   "source": [
    "graph.stronglyConnectedComponents(maxIter=2).orderBy('component').show()"
   ]
  },
  {
   "cell_type": "code",
   "execution_count": 9,
   "id": "86d9eb1e",
   "metadata": {},
   "outputs": [
    {
     "name": "stdout",
     "output_type": "stream",
     "text": [
      "+-----+-------------+\n",
      "|   id|    component|\n",
      "+-----+-------------+\n",
      "|A公司|  25769803776|\n",
      "|B公司|  25769803776|\n",
      "|D公司| 764504178688|\n",
      "|E公司| 764504178688|\n",
      "|C公司| 764504178688|\n",
      "|F公司|1108101562368|\n",
      "|G公司|1709396983808|\n",
      "+-----+-------------+\n",
      "\n"
     ]
    }
   ],
   "source": [
    "graph.stronglyConnectedComponents(maxIter=3).orderBy('component').show()"
   ]
  }
 ],
 "metadata": {
  "kernelspec": {
   "display_name": "Python 3 (ipykernel)",
   "language": "python",
   "name": "python3"
  },
  "language_info": {
   "codemirror_mode": {
    "name": "ipython",
    "version": 3
   },
   "file_extension": ".py",
   "mimetype": "text/x-python",
   "name": "python",
   "nbconvert_exporter": "python",
   "pygments_lexer": "ipython3",
   "version": "3.9.2"
  }
 },
 "nbformat": 4,
 "nbformat_minor": 5
}
