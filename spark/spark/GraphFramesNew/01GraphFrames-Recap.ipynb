{
 "cells": [
  {
   "cell_type": "markdown",
   "id": "276389a1",
   "metadata": {},
   "source": [
    "### 01 创建SparkSession对象的同时，加载graphframes库"
   ]
  },
  {
   "cell_type": "code",
   "execution_count": 1,
   "id": "80049cf2",
   "metadata": {},
   "outputs": [],
   "source": [
    "import findspark\n",
    "findspark.init()\n",
    "from pyspark.sql import SparkSession\n",
    "spark = SparkSession.builder \\\n",
    "                    .config('spark.jars.packages', 'graphframes:graphframes:0.8.2-spark3.0-s_2.12') \\\n",
    "                    .getOrCreate()"
   ]
  },
  {
   "cell_type": "markdown",
   "id": "ab12742b",
   "metadata": {},
   "source": [
    "### 02 通过读入文件social-nodes.csv创建顶点DataFrame"
   ]
  },
  {
   "cell_type": "code",
   "execution_count": 2,
   "id": "6e184ff1",
   "metadata": {},
   "outputs": [
    {
     "name": "stdout",
     "output_type": "stream",
     "text": [
      "+-------+\n",
      "|     id|\n",
      "+-------+\n",
      "|  Alice|\n",
      "|Bridget|\n",
      "|Charles|\n",
      "|   Doug|\n",
      "|   Mark|\n",
      "|Michael|\n",
      "|  David|\n",
      "|    Amy|\n",
      "|  James|\n",
      "+-------+\n",
      "\n"
     ]
    }
   ],
   "source": [
    "df_V = spark.read.csv('social-nodes.csv', header=True, inferSchema = True)\n",
    "df_V.show()"
   ]
  },
  {
   "cell_type": "markdown",
   "id": "02906049",
   "metadata": {},
   "source": [
    "### 03 通过读入文件social-relationships.csv创建边DataFrame"
   ]
  },
  {
   "cell_type": "code",
   "execution_count": 3,
   "id": "33718186",
   "metadata": {},
   "outputs": [
    {
     "name": "stdout",
     "output_type": "stream",
     "text": [
      "+-------+-------+------------+\n",
      "|    src|    dst|relationship|\n",
      "+-------+-------+------------+\n",
      "|  Alice|Bridget|     FOLLOWS|\n",
      "|  Alice|Charles|     FOLLOWS|\n",
      "|   Mark|   Doug|     FOLLOWS|\n",
      "|Bridget|Michael|     FOLLOWS|\n",
      "|   Doug|   Mark|     FOLLOWS|\n",
      "|Michael|  Alice|     FOLLOWS|\n",
      "|  Alice|Michael|     FOLLOWS|\n",
      "|Bridget|  Alice|     FOLLOWS|\n",
      "|Michael|Bridget|     FOLLOWS|\n",
      "|Charles|   Doug|     FOLLOWS|\n",
      "|Bridget|   Doug|     FOLLOWS|\n",
      "|Michael|   Doug|     FOLLOWS|\n",
      "|  Alice|   Doug|     FOLLOWS|\n",
      "|   Mark|  Alice|     FOLLOWS|\n",
      "|  David|    Amy|     FOLLOWS|\n",
      "|  James|  David|     FOLLOWS|\n",
      "+-------+-------+------------+\n",
      "\n"
     ]
    }
   ],
   "source": [
    "df_E=spark.read.csv('./social-relationships.csv',header=True,inferSchema=True)\n",
    "df_E.show()"
   ]
  },
  {
   "cell_type": "markdown",
   "id": "3f962e40",
   "metadata": {},
   "source": [
    "### 04 引入GraphFram模块，并根据顶点和边DataFrame创建GraphFrame图对象"
   ]
  },
  {
   "cell_type": "code",
   "execution_count": 7,
   "id": "1fe331b2",
   "metadata": {},
   "outputs": [
    {
     "data": {
      "text/plain": [
       "graphframes.graphframe.GraphFrame"
      ]
     },
     "execution_count": 7,
     "metadata": {},
     "output_type": "execute_result"
    }
   ],
   "source": [
    "from graphframes import GraphFrame\n",
    "graph=GraphFrame(df_V,df_E)\n",
    "type(graph)"
   ]
  },
  {
   "cell_type": "markdown",
   "id": "e101ad32",
   "metadata": {},
   "source": [
    "### 05 分别查看图对象的顶点和边视图"
   ]
  },
  {
   "cell_type": "code",
   "execution_count": 8,
   "id": "71c41388",
   "metadata": {},
   "outputs": [
    {
     "name": "stdout",
     "output_type": "stream",
     "text": [
      "+-------+\n",
      "|     id|\n",
      "+-------+\n",
      "|  Alice|\n",
      "|Bridget|\n",
      "|Charles|\n",
      "|   Doug|\n",
      "|   Mark|\n",
      "|Michael|\n",
      "|  David|\n",
      "|    Amy|\n",
      "|  James|\n",
      "+-------+\n",
      "\n"
     ]
    }
   ],
   "source": [
    "graph.vertices.show()"
   ]
  },
  {
   "cell_type": "code",
   "execution_count": 9,
   "id": "f7de9d94",
   "metadata": {},
   "outputs": [
    {
     "name": "stdout",
     "output_type": "stream",
     "text": [
      "+-------+-------+------------+\n",
      "|    src|    dst|relationship|\n",
      "+-------+-------+------------+\n",
      "|  Alice|Bridget|     FOLLOWS|\n",
      "|  Alice|Charles|     FOLLOWS|\n",
      "|   Mark|   Doug|     FOLLOWS|\n",
      "|Bridget|Michael|     FOLLOWS|\n",
      "|   Doug|   Mark|     FOLLOWS|\n",
      "|Michael|  Alice|     FOLLOWS|\n",
      "|  Alice|Michael|     FOLLOWS|\n",
      "|Bridget|  Alice|     FOLLOWS|\n",
      "|Michael|Bridget|     FOLLOWS|\n",
      "|Charles|   Doug|     FOLLOWS|\n",
      "|Bridget|   Doug|     FOLLOWS|\n",
      "|Michael|   Doug|     FOLLOWS|\n",
      "|  Alice|   Doug|     FOLLOWS|\n",
      "|   Mark|  Alice|     FOLLOWS|\n",
      "|  David|    Amy|     FOLLOWS|\n",
      "|  James|  David|     FOLLOWS|\n",
      "+-------+-------+------------+\n",
      "\n"
     ]
    }
   ],
   "source": [
    "graph.edges.show()"
   ]
  },
  {
   "cell_type": "markdown",
   "id": "dd4ca6ab",
   "metadata": {},
   "source": [
    "### 06 查找图中相互关注的人"
   ]
  },
  {
   "cell_type": "code",
   "execution_count": 13,
   "id": "f927b875",
   "metadata": {},
   "outputs": [
    {
     "name": "stdout",
     "output_type": "stream",
     "text": [
      "+---------+---------+\n",
      "|       v1|       v2|\n",
      "+---------+---------+\n",
      "|  [Alice]|[Bridget]|\n",
      "|   [Mark]|   [Doug]|\n",
      "|[Bridget]|[Michael]|\n",
      "|   [Doug]|   [Mark]|\n",
      "|[Michael]|  [Alice]|\n",
      "|  [Alice]|[Michael]|\n",
      "|[Bridget]|  [Alice]|\n",
      "|[Michael]|[Bridget]|\n",
      "+---------+---------+\n",
      "\n"
     ]
    }
   ],
   "source": [
    "df_find=graph.find('(v1)-[]->(v2);(v2)-[]->(v1)')\n",
    "df_find.show()"
   ]
  },
  {
   "cell_type": "code",
   "execution_count": 18,
   "id": "84cae9d8",
   "metadata": {},
   "outputs": [],
   "source": [
    "#df_find.groupBy(\"v1\").agg(df_find('v2')).show()"
   ]
  },
  {
   "cell_type": "markdown",
   "id": "3a260074",
   "metadata": {},
   "source": [
    "### 07 查看图中各个顶点的度、出度和入度"
   ]
  },
  {
   "cell_type": "code",
   "execution_count": 14,
   "id": "4b2cbb57",
   "metadata": {},
   "outputs": [
    {
     "name": "stdout",
     "output_type": "stream",
     "text": [
      "+-------+------+\n",
      "|     id|degree|\n",
      "+-------+------+\n",
      "|  James|     1|\n",
      "|   Doug|     6|\n",
      "|    Amy|     1|\n",
      "|Michael|     5|\n",
      "|Charles|     2|\n",
      "|   Mark|     3|\n",
      "|  Alice|     7|\n",
      "|Bridget|     5|\n",
      "|  David|     2|\n",
      "+-------+------+\n",
      "\n"
     ]
    }
   ],
   "source": [
    "graph.degrees.show()"
   ]
  },
  {
   "cell_type": "code",
   "execution_count": 15,
   "id": "6e74bc79",
   "metadata": {},
   "outputs": [
    {
     "name": "stdout",
     "output_type": "stream",
     "text": [
      "+-------+--------+\n",
      "|     id|inDegree|\n",
      "+-------+--------+\n",
      "|   Doug|       5|\n",
      "|    Amy|       1|\n",
      "|Michael|       2|\n",
      "|Charles|       1|\n",
      "|   Mark|       1|\n",
      "|  Alice|       3|\n",
      "|Bridget|       2|\n",
      "|  David|       1|\n",
      "+-------+--------+\n",
      "\n"
     ]
    }
   ],
   "source": [
    "graph.inDegrees.show()"
   ]
  },
  {
   "cell_type": "code",
   "execution_count": 16,
   "id": "d8c4b616",
   "metadata": {},
   "outputs": [
    {
     "name": "stdout",
     "output_type": "stream",
     "text": [
      "+-------+---------+\n",
      "|     id|outDegree|\n",
      "+-------+---------+\n",
      "|  James|        1|\n",
      "|   Doug|        1|\n",
      "|Michael|        3|\n",
      "|Charles|        1|\n",
      "|   Mark|        2|\n",
      "|  Alice|        4|\n",
      "|Bridget|        3|\n",
      "|  David|        1|\n",
      "+-------+---------+\n",
      "\n"
     ]
    }
   ],
   "source": [
    "graph.outDegrees.show()"
   ]
  },
  {
   "cell_type": "markdown",
   "id": "7400a2a8",
   "metadata": {},
   "source": [
    "### 08 将度、出度和入度DataFrame通过join联结起来\n",
    "\n",
    "<img src='degrees.png' />"
   ]
  },
  {
   "cell_type": "code",
   "execution_count": null,
   "id": "b2e4c00e",
   "metadata": {},
   "outputs": [],
   "source": []
  },
  {
   "cell_type": "code",
   "execution_count": null,
   "id": "bd31c8f6",
   "metadata": {},
   "outputs": [],
   "source": []
  },
  {
   "cell_type": "markdown",
   "id": "c2da2310",
   "metadata": {},
   "source": [
    "### 09 采用广度优先搜索（BFS）算法，找出距离David路径最短的人（不包含David本人）"
   ]
  },
  {
   "cell_type": "code",
   "execution_count": null,
   "id": "d3d24fb9",
   "metadata": {},
   "outputs": [],
   "source": [
    "graph.bfs(\"id='David'\",\"id<>'David'\").show(truncate=False)"
   ]
  }
 ],
 "metadata": {
  "kernelspec": {
   "display_name": "Python 3 (ipykernel)",
   "language": "python",
   "name": "python3"
  },
  "language_info": {
   "codemirror_mode": {
    "name": "ipython",
    "version": 3
   },
   "file_extension": ".py",
   "mimetype": "text/x-python",
   "name": "python",
   "nbconvert_exporter": "python",
   "pygments_lexer": "ipython3",
   "version": "3.9.2"
  }
 },
 "nbformat": 4,
 "nbformat_minor": 5
}
