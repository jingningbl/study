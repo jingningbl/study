{
 "cells": [
  {
   "cell_type": "markdown",
   "id": "12587387",
   "metadata": {},
   "source": [
    "### 练习：\n",
    "### router.csv和router-relationship.csv文件中记录的是某个网络中，路由器节点和节点之间的连接图。请判断这个网络是否连通？"
   ]
  },
  {
   "cell_type": "code",
   "execution_count": 1,
   "id": "83d4c806",
   "metadata": {},
   "outputs": [],
   "source": [
    "import findspark\n",
    "findspark.init()\n",
    "from pyspark.sql import SparkSession\n",
    "spark = SparkSession.builder \\\n",
    "                    .config('spark.jars.packages', 'graphframes:graphframes:0.8.2-spark3.0-s_2.12') \\\n",
    "                    .getOrCreate()"
   ]
  },
  {
   "cell_type": "code",
   "execution_count": 4,
   "id": "35e1477f",
   "metadata": {},
   "outputs": [],
   "source": [
    "spark.sparkContext.setCheckpointDir('./checkpointDir')"
   ]
  },
  {
   "cell_type": "code",
   "execution_count": 2,
   "id": "42bdbc2d",
   "metadata": {},
   "outputs": [
    {
     "name": "stdout",
     "output_type": "stream",
     "text": [
      "+-------+\n",
      "|     id|\n",
      "+-------+\n",
      "|routerA|\n",
      "|routerB|\n",
      "|routerC|\n",
      "|routerD|\n",
      "|routerE|\n",
      "|routerF|\n",
      "|routerG|\n",
      "+-------+\n",
      "\n"
     ]
    }
   ],
   "source": [
    "df_V=spark.read.csv(\"./router.csv\",header=True,inferSchema=True)\n",
    "df_V.show()"
   ]
  },
  {
   "cell_type": "code",
   "execution_count": 3,
   "id": "7a01db26",
   "metadata": {},
   "outputs": [
    {
     "name": "stdout",
     "output_type": "stream",
     "text": [
      "+-------+-------+\n",
      "|    src|    dst|\n",
      "+-------+-------+\n",
      "|routerA|routerB|\n",
      "|routerA|routerC|\n",
      "|routerA|routerD|\n",
      "|routerC|routerD|\n",
      "|routerC|routerE|\n",
      "|routerD|routerE|\n",
      "|routerF|routerG|\n",
      "+-------+-------+\n",
      "\n"
     ]
    }
   ],
   "source": [
    "df_E=spark.read.csv(\"./router-relationship.csv\",header=True,inferSchema=True)\n",
    "df_E.show()"
   ]
  },
  {
   "cell_type": "code",
   "execution_count": 6,
   "id": "4859a16d",
   "metadata": {},
   "outputs": [
    {
     "data": {
      "text/plain": [
       "graphframes.graphframe.GraphFrame"
      ]
     },
     "execution_count": 6,
     "metadata": {},
     "output_type": "execute_result"
    }
   ],
   "source": [
    "from graphframes import GraphFrame\n",
    "graph=GraphFrame(df_V,df_E)\n",
    "type(graph)"
   ]
  },
  {
   "cell_type": "code",
   "execution_count": 8,
   "id": "e5f793de",
   "metadata": {},
   "outputs": [
    {
     "name": "stdout",
     "output_type": "stream",
     "text": [
      "+-------+------------+\n",
      "|     id|   component|\n",
      "+-------+------------+\n",
      "|routerA|223338299392|\n",
      "|routerD|223338299392|\n",
      "|routerB|223338299392|\n",
      "|routerC|223338299392|\n",
      "|routerF|901943132160|\n",
      "|routerE|223338299392|\n",
      "|routerG|901943132160|\n",
      "+-------+------------+\n",
      "\n"
     ]
    }
   ],
   "source": [
    "df=graph.connectedComponents()\n",
    "df.show()"
   ]
  },
  {
   "cell_type": "code",
   "execution_count": 9,
   "id": "a038c0d9",
   "metadata": {},
   "outputs": [
    {
     "name": "stdout",
     "output_type": "stream",
     "text": [
      "+-------+------------+\n",
      "|     id|   component|\n",
      "+-------+------------+\n",
      "|routerF|901943132160|\n",
      "|routerG|901943132160|\n",
      "|routerA|223338299392|\n",
      "|routerD|223338299392|\n",
      "|routerB|223338299392|\n",
      "|routerC|223338299392|\n",
      "|routerE|223338299392|\n",
      "+-------+------------+\n",
      "\n"
     ]
    }
   ],
   "source": [
    "df.select(\"id\",\"component\").orderBy(\"component\",ascending=False).show()"
   ]
  }
 ],
 "metadata": {
  "kernelspec": {
   "display_name": "Python 3 (ipykernel)",
   "language": "python",
   "name": "python3"
  },
  "language_info": {
   "codemirror_mode": {
    "name": "ipython",
    "version": 3
   },
   "file_extension": ".py",
   "mimetype": "text/x-python",
   "name": "python",
   "nbconvert_exporter": "python",
   "pygments_lexer": "ipython3",
   "version": "3.9.2"
  }
 },
 "nbformat": 4,
 "nbformat_minor": 5
}
